{
 "cells": [
  {
   "cell_type": "code",
   "execution_count": 48,
   "id": "439a63dc",
   "metadata": {},
   "outputs": [],
   "source": [
    "#Importação de módulos\n",
    "import pandas as pd\n",
    "from sklearn.preprocessing import StandardScaler\n",
    "from sklearn.model_selection import train_test_split\n",
    "from sklearn.neural_network import MLPRegressor\n",
    "from sklearn.metrics import mean_absolute_error\n",
    "import matplotlib.pyplot as plt"
   ]
  },
  {
   "cell_type": "code",
   "execution_count": 49,
   "id": "1e1ee720",
   "metadata": {},
   "outputs": [],
   "source": [
    "#Leitura da base de dados\n",
    "base = pd.read_csv('plano_saude.csv')\n",
    "X = base.iloc[:, 0:1].values\n",
    "y = base.iloc[:, 1:2].values"
   ]
  },
  {
   "cell_type": "code",
   "execution_count": 50,
   "id": "5e02bbbf",
   "metadata": {},
   "outputs": [
    {
     "data": {
      "text/html": [
       "<div>\n",
       "<style scoped>\n",
       "    .dataframe tbody tr th:only-of-type {\n",
       "        vertical-align: middle;\n",
       "    }\n",
       "\n",
       "    .dataframe tbody tr th {\n",
       "        vertical-align: top;\n",
       "    }\n",
       "\n",
       "    .dataframe thead th {\n",
       "        text-align: right;\n",
       "    }\n",
       "</style>\n",
       "<table border=\"1\" class=\"dataframe\">\n",
       "  <thead>\n",
       "    <tr style=\"text-align: right;\">\n",
       "      <th></th>\n",
       "      <th>idade</th>\n",
       "      <th>custo</th>\n",
       "    </tr>\n",
       "  </thead>\n",
       "  <tbody>\n",
       "    <tr>\n",
       "      <th>0</th>\n",
       "      <td>18</td>\n",
       "      <td>871</td>\n",
       "    </tr>\n",
       "    <tr>\n",
       "      <th>1</th>\n",
       "      <td>23</td>\n",
       "      <td>1132</td>\n",
       "    </tr>\n",
       "    <tr>\n",
       "      <th>2</th>\n",
       "      <td>28</td>\n",
       "      <td>1242</td>\n",
       "    </tr>\n",
       "    <tr>\n",
       "      <th>3</th>\n",
       "      <td>33</td>\n",
       "      <td>1356</td>\n",
       "    </tr>\n",
       "    <tr>\n",
       "      <th>4</th>\n",
       "      <td>38</td>\n",
       "      <td>1488</td>\n",
       "    </tr>\n",
       "  </tbody>\n",
       "</table>\n",
       "</div>"
      ],
      "text/plain": [
       "   idade  custo\n",
       "0     18    871\n",
       "1     23   1132\n",
       "2     28   1242\n",
       "3     33   1356\n",
       "4     38   1488"
      ]
     },
     "execution_count": 50,
     "metadata": {},
     "output_type": "execute_result"
    }
   ],
   "source": [
    "base.head()"
   ]
  },
  {
   "cell_type": "code",
   "execution_count": 51,
   "id": "af31d07c",
   "metadata": {},
   "outputs": [
    {
     "data": {
      "text/plain": [
       "array([18])"
      ]
     },
     "execution_count": 51,
     "metadata": {},
     "output_type": "execute_result"
    }
   ],
   "source": [
    "#Variavel previsora (idade)\n",
    "X[0]"
   ]
  },
  {
   "cell_type": "code",
   "execution_count": 52,
   "id": "ac5ec3ee",
   "metadata": {},
   "outputs": [
    {
     "data": {
      "text/plain": [
       "array([871])"
      ]
     },
     "execution_count": 52,
     "metadata": {},
     "output_type": "execute_result"
    }
   ],
   "source": [
    "#Variável alvo (custo)\n",
    "y[0]"
   ]
  },
  {
   "cell_type": "code",
   "execution_count": 53,
   "id": "0e776fab",
   "metadata": {},
   "outputs": [],
   "source": [
    "#Escalonamento de variáveis\n",
    "scaler_x = StandardScaler()\n",
    "X = scaler_x.fit_transform(X)\n",
    "scaler_y = StandardScaler()\n",
    "y = scaler_y.fit_transform(y)"
   ]
  },
  {
   "cell_type": "code",
   "execution_count": 54,
   "id": "368b8667",
   "metadata": {},
   "outputs": [],
   "source": [
    "#Divisão de base de treinamento e teste\n",
    "X_treinamento, X_teste, y_treinamento, y_teste = train_test_split(X, \n",
    "                                                                  y.ravel(),\n",
    "                                                                  test_size = 0.3,                                                                \n",
    "                                                                  random_state = 0\n",
    "                                                                 )"
   ]
  },
  {
   "cell_type": "code",
   "execution_count": 55,
   "id": "504b07a7",
   "metadata": {},
   "outputs": [
    {
     "data": {
      "text/plain": [
       "MLPRegressor(hidden_layer_sizes=(9, 9), max_iter=1000)"
      ]
     },
     "execution_count": 55,
     "metadata": {},
     "output_type": "execute_result"
    }
   ],
   "source": [
    "#Montagem da rede e treinamento\n",
    "regressor = MLPRegressor(\n",
    "                        hidden_layer_sizes = (9,9),\n",
    "                        max_iter = 1000\n",
    "                        )\n",
    "regressor.fit(X_treinamento, y_treinamento)"
   ]
  },
  {
   "cell_type": "code",
   "execution_count": 56,
   "id": "95ce20d7",
   "metadata": {},
   "outputs": [
    {
     "data": {
      "text/plain": [
       "0.9687164985722687"
      ]
     },
     "execution_count": 56,
     "metadata": {},
     "output_type": "execute_result"
    }
   ],
   "source": [
    "#Análise do score do treinamento\n",
    "regressor.score(X_treinamento, y_treinamento)\n"
   ]
  },
  {
   "cell_type": "code",
   "execution_count": 57,
   "id": "bf7d667c",
   "metadata": {},
   "outputs": [
    {
     "data": {
      "text/plain": [
       "0.9446139913094014"
      ]
     },
     "execution_count": 57,
     "metadata": {},
     "output_type": "execute_result"
    }
   ],
   "source": [
    "#Análise do score da base de teste\n",
    "regressor.score(X_teste, y_teste)"
   ]
  },
  {
   "cell_type": "code",
   "execution_count": 58,
   "id": "11b73a4b",
   "metadata": {},
   "outputs": [
    {
     "data": {
      "text/plain": [
       "183.0194043093944"
      ]
     },
     "execution_count": 58,
     "metadata": {},
     "output_type": "execute_result"
    }
   ],
   "source": [
    "#Calculando o Erro Absoluto Médio\n",
    "previsoes = regressor.predict(X_teste)\n",
    "y_teste = scaler_y.inverse_transform(y_teste)\n",
    "previsoes = scaler_y.inverse_transform(previsoes)\n",
    "mae = mean_absolute_error(y_teste, previsoes)\n",
    "mae"
   ]
  },
  {
   "cell_type": "code",
   "execution_count": 59,
   "id": "433d5c77",
   "metadata": {},
   "outputs": [
    {
     "data": {
      "text/plain": [
       "array([1480.82213451])"
      ]
     },
     "execution_count": 59,
     "metadata": {},
     "output_type": "execute_result"
    }
   ],
   "source": [
    "#Previsão de um ponto da regressão\n",
    "novo = [[40]]\n",
    "novo = scaler_x.transform(novo)  #Escalonamento\n",
    "scaler_y.inverse_transform(regressor.predict(novo))  #Escalonamento inverso"
   ]
  },
  {
   "cell_type": "code",
   "execution_count": 60,
   "id": "ae6bef05",
   "metadata": {},
   "outputs": [
    {
     "data": {
      "text/plain": [
       "Text(0, 0.5, 'Custo')"
      ]
     },
     "execution_count": 60,
     "metadata": {},
     "output_type": "execute_result"
    },
    {
     "data": {
      "image/png": "[encoded data removed]",
      "text/plain": [
       "<Figure size 432x288 with 1 Axes>"
      ]
     },
     "metadata": {
      "needs_background": "light"
     },
     "output_type": "display_data"
    }
   ],
   "source": [
    "#Plotando o gráfico\n",
    "plt.scatter(X, y)\n",
    "plt.plot(X, regressor.predict(X), color = 'red')\n",
    "plt.title('Regressão com redes neurais')\n",
    "plt.xlabel('Idade')\n",
    "plt.ylabel('Custo')"
   ]
  },
  {
   "cell_type": "code",
   "execution_count": null,
   "id": "7a99bc72",
   "metadata": {},
   "outputs": [],
   "source": []
  },
  {
   "cell_type": "code",
   "execution_count": null,
   "id": "82acb7c1",
   "metadata": {},
   "outputs": [],
   "source": []
  }
 ],
 "metadata": {
  "kernelspec": {
   "display_name": "Python 3",
   "language": "python",
   "name": "python3"
  },
  "language_info": {
   "codemirror_mode": {
    "name": "ipython",
    "version": 3
   },
   "file_extension": ".py",
   "mimetype": "text/x-python",
   "name": "python",
   "nbconvert_exporter": "python",
   "pygments_lexer": "ipython3",
   "version": "3.6.9"
  }
 },
 "nbformat": 4,
 "nbformat_minor": 5
}
