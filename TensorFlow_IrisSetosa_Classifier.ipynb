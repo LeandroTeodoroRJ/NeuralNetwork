{
 "cells": [
  {
   "cell_type": "markdown",
   "id": "6ab931db",
   "metadata": {},
   "source": [
    "### CLASSIFICADOR COM TENSOR FLOW"
   ]
  },
  {
   "cell_type": "markdown",
   "id": "f91523c0",
   "metadata": {},
   "source": [
    "Implementar um classificador utilizando a biblioteca do TensorFlow para o database Iris Setosa."
   ]
  },
  {
   "cell_type": "code",
   "execution_count": 1,
   "id": "f50ce402",
   "metadata": {},
   "outputs": [],
   "source": [
    "#Instalando o Tensor Flow\n",
    "#!pip install tensorflow==2.6.2"
   ]
  },
  {
   "cell_type": "code",
   "execution_count": 2,
   "id": "b2a8b87a",
   "metadata": {},
   "outputs": [
    {
     "name": "stdout",
     "output_type": "stream",
     "text": [
      "keras                   2.6.0\r\n"
     ]
    }
   ],
   "source": [
    "#Versaão do Keras\n",
    "!pip list | grep keras"
   ]
  },
  {
   "cell_type": "code",
   "execution_count": 3,
   "id": "66c0cf7f",
   "metadata": {},
   "outputs": [
    {
     "name": "stdout",
     "output_type": "stream",
     "text": [
      "tensorflow              2.6.2\r\n",
      "tensorflow-estimator    2.6.0\r\n"
     ]
    }
   ],
   "source": [
    "#Versão do TensorFlow\n",
    "!pip list | grep tensorflow"
   ]
  },
  {
   "cell_type": "markdown",
   "id": "63b73dfb",
   "metadata": {},
   "source": [
    "### Importação das bibliotecas"
   ]
  },
  {
   "cell_type": "code",
   "execution_count": 4,
   "id": "15343ea1",
   "metadata": {},
   "outputs": [],
   "source": [
    "import pandas as pd\n",
    "import numpy as np\n",
    "import os\n",
    "import matplotlib.pyplot as plt\n",
    "\n",
    "\n",
    "# Bibliotecas do SKLearn\n",
    "from sklearn.preprocessing import LabelEncoder\n",
    "from sklearn.model_selection import train_test_split\n",
    "\n",
    "# Bibliotecas do Tensorflow\n",
    "import tensorflow as tf\n",
    "from tensorflow import keras\n",
    "from tensorflow.keras.models import Sequential"
   ]
  },
  {
   "cell_type": "markdown",
   "id": "cd41c75a",
   "metadata": {},
   "source": [
    "### Preprocessamento"
   ]
  },
  {
   "cell_type": "code",
   "execution_count": 5,
   "id": "00380991",
   "metadata": {},
   "outputs": [],
   "source": [
    "#Carregando a base de dados\n",
    "df_iris = pd.read_csv(\"./iris.csv\")"
   ]
  },
  {
   "cell_type": "code",
   "execution_count": 6,
   "id": "c27a717d",
   "metadata": {},
   "outputs": [
    {
     "data": {
      "text/html": [
       "<div>\n",
       "<style scoped>\n",
       "    .dataframe tbody tr th:only-of-type {\n",
       "        vertical-align: middle;\n",
       "    }\n",
       "\n",
       "    .dataframe tbody tr th {\n",
       "        vertical-align: top;\n",
       "    }\n",
       "\n",
       "    .dataframe thead th {\n",
       "        text-align: right;\n",
       "    }\n",
       "</style>\n",
       "<table border=\"1\" class=\"dataframe\">\n",
       "  <thead>\n",
       "    <tr style=\"text-align: right;\">\n",
       "      <th></th>\n",
       "      <th>sepal_length</th>\n",
       "      <th>sepal_width</th>\n",
       "      <th>petal_length</th>\n",
       "      <th>petal_width</th>\n",
       "      <th>species</th>\n",
       "    </tr>\n",
       "  </thead>\n",
       "  <tbody>\n",
       "    <tr>\n",
       "      <th>0</th>\n",
       "      <td>5.1</td>\n",
       "      <td>3.5</td>\n",
       "      <td>1.4</td>\n",
       "      <td>0.2</td>\n",
       "      <td>setosa</td>\n",
       "    </tr>\n",
       "    <tr>\n",
       "      <th>1</th>\n",
       "      <td>4.9</td>\n",
       "      <td>3.0</td>\n",
       "      <td>1.4</td>\n",
       "      <td>0.2</td>\n",
       "      <td>setosa</td>\n",
       "    </tr>\n",
       "    <tr>\n",
       "      <th>2</th>\n",
       "      <td>4.7</td>\n",
       "      <td>3.2</td>\n",
       "      <td>1.3</td>\n",
       "      <td>0.2</td>\n",
       "      <td>setosa</td>\n",
       "    </tr>\n",
       "    <tr>\n",
       "      <th>3</th>\n",
       "      <td>4.6</td>\n",
       "      <td>3.1</td>\n",
       "      <td>1.5</td>\n",
       "      <td>0.2</td>\n",
       "      <td>setosa</td>\n",
       "    </tr>\n",
       "    <tr>\n",
       "      <th>4</th>\n",
       "      <td>5.0</td>\n",
       "      <td>3.6</td>\n",
       "      <td>1.4</td>\n",
       "      <td>0.2</td>\n",
       "      <td>setosa</td>\n",
       "    </tr>\n",
       "  </tbody>\n",
       "</table>\n",
       "</div>"
      ],
      "text/plain": [
       "   sepal_length  sepal_width  petal_length  petal_width species\n",
       "0           5.1          3.5           1.4          0.2  setosa\n",
       "1           4.9          3.0           1.4          0.2  setosa\n",
       "2           4.7          3.2           1.3          0.2  setosa\n",
       "3           4.6          3.1           1.5          0.2  setosa\n",
       "4           5.0          3.6           1.4          0.2  setosa"
      ]
     },
     "execution_count": 6,
     "metadata": {},
     "output_type": "execute_result"
    }
   ],
   "source": [
    "df_iris.head()"
   ]
  },
  {
   "cell_type": "code",
   "execution_count": 7,
   "id": "bae37f5f",
   "metadata": {},
   "outputs": [
    {
     "data": {
      "text/html": [
       "<div>\n",
       "<style scoped>\n",
       "    .dataframe tbody tr th:only-of-type {\n",
       "        vertical-align: middle;\n",
       "    }\n",
       "\n",
       "    .dataframe tbody tr th {\n",
       "        vertical-align: top;\n",
       "    }\n",
       "\n",
       "    .dataframe thead th {\n",
       "        text-align: right;\n",
       "    }\n",
       "</style>\n",
       "<table border=\"1\" class=\"dataframe\">\n",
       "  <thead>\n",
       "    <tr style=\"text-align: right;\">\n",
       "      <th></th>\n",
       "      <th>sepal_length</th>\n",
       "      <th>sepal_width</th>\n",
       "      <th>petal_length</th>\n",
       "      <th>petal_width</th>\n",
       "    </tr>\n",
       "  </thead>\n",
       "  <tbody>\n",
       "    <tr>\n",
       "      <th>count</th>\n",
       "      <td>150.000000</td>\n",
       "      <td>150.000000</td>\n",
       "      <td>150.000000</td>\n",
       "      <td>150.000000</td>\n",
       "    </tr>\n",
       "    <tr>\n",
       "      <th>mean</th>\n",
       "      <td>5.843333</td>\n",
       "      <td>3.054000</td>\n",
       "      <td>3.758667</td>\n",
       "      <td>1.198667</td>\n",
       "    </tr>\n",
       "    <tr>\n",
       "      <th>std</th>\n",
       "      <td>0.828066</td>\n",
       "      <td>0.433594</td>\n",
       "      <td>1.764420</td>\n",
       "      <td>0.763161</td>\n",
       "    </tr>\n",
       "    <tr>\n",
       "      <th>min</th>\n",
       "      <td>4.300000</td>\n",
       "      <td>2.000000</td>\n",
       "      <td>1.000000</td>\n",
       "      <td>0.100000</td>\n",
       "    </tr>\n",
       "    <tr>\n",
       "      <th>25%</th>\n",
       "      <td>5.100000</td>\n",
       "      <td>2.800000</td>\n",
       "      <td>1.600000</td>\n",
       "      <td>0.300000</td>\n",
       "    </tr>\n",
       "    <tr>\n",
       "      <th>50%</th>\n",
       "      <td>5.800000</td>\n",
       "      <td>3.000000</td>\n",
       "      <td>4.350000</td>\n",
       "      <td>1.300000</td>\n",
       "    </tr>\n",
       "    <tr>\n",
       "      <th>75%</th>\n",
       "      <td>6.400000</td>\n",
       "      <td>3.300000</td>\n",
       "      <td>5.100000</td>\n",
       "      <td>1.800000</td>\n",
       "    </tr>\n",
       "    <tr>\n",
       "      <th>max</th>\n",
       "      <td>7.900000</td>\n",
       "      <td>4.400000</td>\n",
       "      <td>6.900000</td>\n",
       "      <td>2.500000</td>\n",
       "    </tr>\n",
       "  </tbody>\n",
       "</table>\n",
       "</div>"
      ],
      "text/plain": [
       "       sepal_length  sepal_width  petal_length  petal_width\n",
       "count    150.000000   150.000000    150.000000   150.000000\n",
       "mean       5.843333     3.054000      3.758667     1.198667\n",
       "std        0.828066     0.433594      1.764420     0.763161\n",
       "min        4.300000     2.000000      1.000000     0.100000\n",
       "25%        5.100000     2.800000      1.600000     0.300000\n",
       "50%        5.800000     3.000000      4.350000     1.300000\n",
       "75%        6.400000     3.300000      5.100000     1.800000\n",
       "max        7.900000     4.400000      6.900000     2.500000"
      ]
     },
     "execution_count": 7,
     "metadata": {},
     "output_type": "execute_result"
    }
   ],
   "source": [
    "#Estatísticas gerais sobre a base de dados\n",
    "df_iris.describe()"
   ]
  },
  {
   "cell_type": "code",
   "execution_count": 8,
   "id": "2065f096",
   "metadata": {},
   "outputs": [
    {
     "name": "stdout",
     "output_type": "stream",
     "text": [
      "<class 'pandas.core.frame.DataFrame'>\n",
      "RangeIndex: 150 entries, 0 to 149\n",
      "Data columns (total 5 columns):\n",
      " #   Column        Non-Null Count  Dtype  \n",
      "---  ------        --------------  -----  \n",
      " 0   sepal_length  150 non-null    float64\n",
      " 1   sepal_width   150 non-null    float64\n",
      " 2   petal_length  150 non-null    float64\n",
      " 3   petal_width   150 non-null    float64\n",
      " 4   species       150 non-null    object \n",
      "dtypes: float64(4), object(1)\n",
      "memory usage: 6.0+ KB\n"
     ]
    }
   ],
   "source": [
    "#Informaçãoes sobre as features\n",
    "df_iris.info()"
   ]
  },
  {
   "cell_type": "markdown",
   "id": "29c2b1ae",
   "metadata": {},
   "source": [
    "### Visulalização de dados"
   ]
  },
  {
   "cell_type": "code",
   "execution_count": 9,
   "id": "841d039c",
   "metadata": {},
   "outputs": [
    {
     "data": {
      "image/png": "[encoded data removed]",
      "text/plain": [
       "<Figure size 432x288 with 1 Axes>"
      ]
     },
     "metadata": {
      "needs_background": "light"
     },
     "output_type": "display_data"
    }
   ],
   "source": [
    "#Observando algumas distribuições\n",
    "plt.hist(x = df_iris['sepal_length']);"
   ]
  },
  {
   "cell_type": "code",
   "execution_count": 10,
   "id": "74524263",
   "metadata": {},
   "outputs": [
    {
     "data": {
      "image/png": "[encoded data removed]",
      "text/plain": [
       "<Figure size 432x288 with 1 Axes>"
      ]
     },
     "metadata": {
      "needs_background": "light"
     },
     "output_type": "display_data"
    }
   ],
   "source": [
    "plt.hist(x = df_iris['sepal_width']);"
   ]
  },
  {
   "cell_type": "code",
   "execution_count": 11,
   "id": "7309556f",
   "metadata": {},
   "outputs": [
    {
     "data": {
      "image/png": "[encoded data removed]",
      "text/plain": [
       "<Figure size 432x288 with 1 Axes>"
      ]
     },
     "metadata": {
      "needs_background": "light"
     },
     "output_type": "display_data"
    }
   ],
   "source": [
    "plt.hist(x = df_iris['petal_length']);"
   ]
  },
  {
   "cell_type": "code",
   "execution_count": 12,
   "id": "a69b7631",
   "metadata": {},
   "outputs": [
    {
     "data": {
      "image/png": "[encoded data removed]",
      "text/plain": [
       "<Figure size 432x288 with 1 Axes>"
      ]
     },
     "metadata": {
      "needs_background": "light"
     },
     "output_type": "display_data"
    }
   ],
   "source": [
    "plt.hist(x = df_iris['petal_width']);\n"
   ]
  },
  {
   "cell_type": "code",
   "execution_count": 13,
   "id": "2a3a3b65",
   "metadata": {},
   "outputs": [
    {
     "data": {
      "image/png": "[encoded data removed]",
      "text/plain": [
       "<Figure size 432x288 with 1 Axes>"
      ]
     },
     "metadata": {
      "needs_background": "light"
     },
     "output_type": "display_data"
    }
   ],
   "source": [
    "plt.hist(x = df_iris['species']);"
   ]
  },
  {
   "cell_type": "markdown",
   "id": "64366b23",
   "metadata": {},
   "source": [
    "### Tratamento de valores inconsistentes"
   ]
  },
  {
   "cell_type": "code",
   "execution_count": 14,
   "id": "ba1aebc7",
   "metadata": {},
   "outputs": [
    {
     "data": {
      "text/plain": [
       "sepal_length    0\n",
       "sepal_width     0\n",
       "petal_length    0\n",
       "petal_width     0\n",
       "species         0\n",
       "dtype: int64"
      ]
     },
     "execution_count": 14,
     "metadata": {},
     "output_type": "execute_result"
    }
   ],
   "source": [
    "# Verificando o total registros com valores nulos\n",
    "df_iris.isnull().sum()"
   ]
  },
  {
   "cell_type": "code",
   "execution_count": 15,
   "id": "62bac382",
   "metadata": {},
   "outputs": [
    {
     "name": "stdout",
     "output_type": "stream",
     "text": [
      "Atributo: sepal_length\n",
      "Empty DataFrame\n",
      "Columns: [sepal_length, sepal_width, petal_length, petal_width, species]\n",
      "Index: []\n",
      "\n",
      "\n",
      "Atributo: sepal_width\n",
      "Empty DataFrame\n",
      "Columns: [sepal_length, sepal_width, petal_length, petal_width, species]\n",
      "Index: []\n",
      "\n",
      "\n",
      "Atributo: petal_length\n",
      "Empty DataFrame\n",
      "Columns: [sepal_length, sepal_width, petal_length, petal_width, species]\n",
      "Index: []\n",
      "\n",
      "\n",
      "Atributo: petal_width\n",
      "Empty DataFrame\n",
      "Columns: [sepal_length, sepal_width, petal_length, petal_width, species]\n",
      "Index: []\n",
      "\n",
      "\n"
     ]
    }
   ],
   "source": [
    "# Verificando valores inconsistentes\n",
    "nomes_colunas = list(df_iris.columns)  #Lista com os nomes dos atributos\n",
    "\n",
    "# Negativos\n",
    "for i in nomes_colunas:\n",
    "    if (i != \"species\"):\n",
    "        print(\"Atributo: \" + i)\n",
    "        print(df_iris.loc[df_iris[i] < 0])  #Retorna os registros com valores negativos para cada atributo\n",
    "        print(\"\\n\")\n"
   ]
  },
  {
   "cell_type": "markdown",
   "id": "c91558b8",
   "metadata": {},
   "source": [
    "### Preparação dos dados para entrada no Modelo"
   ]
  },
  {
   "cell_type": "code",
   "execution_count": 16,
   "id": "ec278028",
   "metadata": {},
   "outputs": [],
   "source": [
    "#Divisão entre previsores e classe\n",
    "X = df_iris.loc[:, df_iris.columns != 'species']\n",
    "y = df_iris.loc[:, ['species']]"
   ]
  },
  {
   "cell_type": "code",
   "execution_count": 17,
   "id": "0ba8d5ad",
   "metadata": {},
   "outputs": [
    {
     "name": "stdout",
     "output_type": "stream",
     "text": [
      "[0 0 0 0 0 0 0 0 0 0 0 0 0 0 0 0 0 0 0 0 0 0 0 0 0 0 0 0 0 0 0 0 0 0 0 0 0\n",
      " 0 0 0 0 0 0 0 0 0 0 0 0 0 1 1 1 1 1 1 1 1 1 1 1 1 1 1 1 1 1 1 1 1 1 1 1 1\n",
      " 1 1 1 1 1 1 1 1 1 1 1 1 1 1 1 1 1 1 1 1 1 1 1 1 1 1 2 2 2 2 2 2 2 2 2 2 2\n",
      " 2 2 2 2 2 2 2 2 2 2 2 2 2 2 2 2 2 2 2 2 2 2 2 2 2 2 2 2 2 2 2 2 2 2 2 2 2\n",
      " 2 2]\n"
     ]
    },
    {
     "name": "stderr",
     "output_type": "stream",
     "text": [
      "/home/leandro/Win/DADOS/Tablet/PosGrad_IA_PUC-MG/VENV/linux_venv/lib/python3.6/site-packages/sklearn/utils/validation.py:63: DataConversionWarning: A column-vector y was passed when a 1d array was expected. Please change the shape of y to (n_samples, ), for example using ravel().\n",
      "  return f(*args, **kwargs)\n"
     ]
    }
   ],
   "source": [
    "# Transformações de dados\n",
    "# Label Encoder\n",
    "y_enc = LabelEncoder().fit_transform(y)  #Categórico para numérico discreto\n",
    "# Aplicando o one hot enconding diretamente num array numérico 1D\n",
    "y_label = tf.keras.utils.to_categorical(y_enc)  \n",
    "print(y_enc)   #Array numérico discreto das classes\n",
    "#y_label        #Saída com o One Hot"
   ]
  },
  {
   "cell_type": "code",
   "execution_count": 18,
   "id": "75f331f8",
   "metadata": {},
   "outputs": [
    {
     "data": {
      "text/plain": [
       "array([[0.82813287, 0.50702013, 0.23660939, 0.03380134],\n",
       "       [0.80533308, 0.54831188, 0.2227517 , 0.03426949],\n",
       "       [0.80003025, 0.53915082, 0.26087943, 0.03478392],\n",
       "       [0.790965  , 0.5694948 , 0.2214702 , 0.0316386 ]])"
      ]
     },
     "execution_count": 18,
     "metadata": {},
     "output_type": "execute_result"
    }
   ],
   "source": [
    "#Normalização dos dados\n",
    "from sklearn.preprocessing import *\n",
    "#scaler = StandardScaler()  #Ajuste com StandardScaler\n",
    "#X_scaled = scaler.fit_transform(X)  \n",
    "X_scaled = normalize(X) #Normalizando os dados\n",
    "X_scaled[1:5:,:]  #Retorna as 4 primriras linhas do array\n"
   ]
  },
  {
   "cell_type": "code",
   "execution_count": 19,
   "id": "9ff862b7",
   "metadata": {},
   "outputs": [],
   "source": [
    "#Divisão de base de treinamento e teste\n",
    "X_treinamento, X_teste, y_treinamento, y_teste = train_test_split(\n",
    "                    X_scaled, y_label, \n",
    "                    test_size = 0.25, \n",
    "                    random_state = 0\n",
    "                    )"
   ]
  },
  {
   "cell_type": "code",
   "execution_count": 20,
   "id": "613af74f",
   "metadata": {},
   "outputs": [],
   "source": [
    "#Exportando como CSV o databese preprocessado\n",
    "\n",
    "# Previsores\n",
    "X_export = pd.DataFrame(X_scaled, columns=[\"sepal_length\", \"sepal_width\", \"petal_length\", \"petal_width\"])\n",
    "X_export.to_csv(\"./tensor_iris_preprocessed_input.csv\", index=False)\n",
    "\n",
    "# Classe alvo\n",
    "y_export = pd.DataFrame(y_enc)\n",
    "y_export.to_csv(\"./tensor_iris_preprocessed_target.csv\", index=False)\n"
   ]
  },
  {
   "cell_type": "markdown",
   "id": "19111b5b",
   "metadata": {},
   "source": [
    "### Criando o Modelo com o Tensor Flow"
   ]
  },
  {
   "cell_type": "code",
   "execution_count": 21,
   "id": "028eda68",
   "metadata": {},
   "outputs": [],
   "source": [
    "#Definição do modelo\n",
    "model = Sequential([\n",
    "        keras.layers.Input(shape=X_treinamento.shape[1:]),  #Definição da camada de entrada, nesse caso são 4 atributos\n",
    "        keras.layers.Dense(4, activation='relu'),    #Número de neurônios da primeira camada oculta e função de ativação\n",
    "        keras.layers.Dense(4, activation='relu'),    #Adicionando uma segunda camada oculta\n",
    "        keras.layers.Dropout(0.2),  #O dropout ajuda a previnir overfiting, a taxa varia entre 0 a 1 com valores usuais pequenos\n",
    "        keras.layers.Dense(3, activation='softmax')  #Camada de saída com 3 classes alvo e ativação softmax\n",
    "    ])"
   ]
  },
  {
   "cell_type": "code",
   "execution_count": 22,
   "id": "27700df3",
   "metadata": {},
   "outputs": [
    {
     "data": {
      "text/plain": [
       "(4,)"
      ]
     },
     "execution_count": 22,
     "metadata": {},
     "output_type": "execute_result"
    }
   ],
   "source": [
    "# Dimensão da camada de entrada, retorna o shape do primeiro registro de variáveis de entrada\n",
    "X_treinamento.shape[1:]"
   ]
  },
  {
   "cell_type": "code",
   "execution_count": 23,
   "id": "fbbd4262",
   "metadata": {},
   "outputs": [
    {
     "name": "stdout",
     "output_type": "stream",
     "text": [
      "Model: \"sequential\"\n",
      "_________________________________________________________________\n",
      "Layer (type)                 Output Shape              Param #   \n",
      "=================================================================\n",
      "dense (Dense)                (None, 4)                 20        \n",
      "_________________________________________________________________\n",
      "dense_1 (Dense)              (None, 4)                 20        \n",
      "_________________________________________________________________\n",
      "dropout (Dropout)            (None, 4)                 0         \n",
      "_________________________________________________________________\n",
      "dense_2 (Dense)              (None, 3)                 15        \n",
      "=================================================================\n",
      "Total params: 55\n",
      "Trainable params: 55\n",
      "Non-trainable params: 0\n",
      "_________________________________________________________________\n"
     ]
    }
   ],
   "source": [
    "#Resumo do modelo criado\n",
    "model.summary()"
   ]
  },
  {
   "cell_type": "code",
   "execution_count": 24,
   "id": "8b23f4e3",
   "metadata": {},
   "outputs": [],
   "source": [
    "#Compilando o modelo\n",
    "from tensorflow.keras import optimizers\n",
    "\n",
    "model.compile(\n",
    "#              optimizer='adam',                                 #Adam para o backpropagation\n",
    "              optimizer=optimizers.RMSprop(learning_rate=0.001), #Otimizador RMSprop com learning rate especificada\n",
    "              loss=keras.losses.CategoricalCrossentropy(),       #Função de perda\n",
    "              metrics=['accuracy']                               #Métrica utilizada\n",
    "             )"
   ]
  },
  {
   "cell_type": "code",
   "execution_count": 25,
   "id": "79d26e85",
   "metadata": {},
   "outputs": [],
   "source": [
    "#Treinamento do modelo\n",
    "history = model.fit(X_treinamento, y_treinamento, epochs=1000, validation_data=(X_teste, y_teste), verbose=0)"
   ]
  },
  {
   "cell_type": "markdown",
   "id": "33304074",
   "metadata": {},
   "source": [
    "### Análise do modelo"
   ]
  },
  {
   "cell_type": "code",
   "execution_count": 26,
   "id": "f01b71f2",
   "metadata": {},
   "outputs": [
    {
     "name": "stdout",
     "output_type": "stream",
     "text": [
      "2/2 [==============================] - 0s 4ms/step - loss: 0.2009 - accuracy: 0.9737\n"
     ]
    },
    {
     "data": {
      "text/plain": [
       "[0.20087750256061554, 0.9736841917037964]"
      ]
     },
     "execution_count": 26,
     "metadata": {},
     "output_type": "execute_result"
    }
   ],
   "source": [
    "#Checando a acurácia\n",
    "model.evaluate(X_teste, y_teste)"
   ]
  },
  {
   "cell_type": "code",
   "execution_count": 27,
   "id": "8bfdcbbb",
   "metadata": {},
   "outputs": [
    {
     "data": {
      "image/png": "[encoded data removed]",
      "text/plain": [
       "<Figure size 720x432 with 1 Axes>"
      ]
     },
     "metadata": {
      "needs_background": "light"
     },
     "output_type": "display_data"
    }
   ],
   "source": [
    "#Evolução de performance\n",
    "pd.DataFrame(history.history).plot(figsize=(10,6))  #Evolução das métricas\n",
    "plt.grid(True)            #Mostra as linhas de grade\n",
    "plt.gca().set_ylim(0, 1)  #Limites do eixo y\n",
    "plt.show()                #Gera o gráfico"
   ]
  },
  {
   "cell_type": "code",
   "execution_count": 28,
   "id": "a72bd2cc",
   "metadata": {},
   "outputs": [
    {
     "name": "stdout",
     "output_type": "stream",
     "text": [
      "\n",
      "Resultado normalizado:\n",
      "[[1.  0.  0. ]\n",
      " [0.  1.  0.1]\n",
      " [0.  0.  0.9]]\n",
      "\n",
      "Resultado não normalizado:\n",
      "[[13  0  0]\n",
      " [ 0 15  1]\n",
      " [ 0  0  9]]\n"
     ]
    }
   ],
   "source": [
    "#Matriz de confusão\n",
    "from sklearn.metrics import confusion_matrix\n",
    "\n",
    "y_prediction = model.predict(X_teste)                 #Retorna a predição da base de teste\n",
    "y_prediction = np.argmax (y_prediction, axis = 1)     #Retorna o índice do array com maior valor (classe predita)\n",
    "y_test=np.argmax(y_teste, axis=1)                     #Classe correta\n",
    "\n",
    "#Cria a matriz de confusão com as classes preditas nas colunas\n",
    "result = confusion_matrix(y_test, y_prediction , normalize='pred')\n",
    "print(\"\\nResultado normalizado:\")\n",
    "print(result)\n",
    "not_norm_result = confusion_matrix(y_test, y_prediction)\n",
    "print(\"\\nResultado não normalizado:\")\n",
    "print(not_norm_result)"
   ]
  },
  {
   "cell_type": "code",
   "execution_count": 29,
   "id": "01bbfed6",
   "metadata": {},
   "outputs": [
    {
     "name": "stdout",
     "output_type": "stream",
     "text": [
      "2/2 [==============================] - 0s 4ms/step - loss: 0.2009 - accuracy: 0.9737\n",
      "[0.20087750256061554, 0.9736841917037964]\n",
      "2/2 [==============================] - 0s 4ms/step - loss: 0.2009 - accuracy: 0.9737\n",
      "[0.20087750256061554, 0.9736841917037964]\n"
     ]
    }
   ],
   "source": [
    "#Gravando o classificador\n",
    "from keras.models import load_model\n",
    "\n",
    "# Para gravar um classificador\n",
    "model.save('tensorflow_iris_classifier.h5')  #Cria um arquivo HDF5 para salvar o classificador\n",
    "\n",
    "# Para ler um classificador salvo\n",
    "model1 = load_model('tensorflow_iris_classifier.h5')\n",
    "\n",
    "#Comparação entre modelo salvo e já treinado, confirma-se que não há perda.\n",
    "print(model.evaluate(X_teste, y_teste))\n",
    "print(model1.evaluate(X_teste, y_teste))"
   ]
  },
  {
   "cell_type": "markdown",
   "id": "3776f27f",
   "metadata": {},
   "source": [
    "### Predição"
   ]
  },
  {
   "cell_type": "code",
   "execution_count": 30,
   "id": "c0d74ee7",
   "metadata": {},
   "outputs": [
    {
     "name": "stdout",
     "output_type": "stream",
     "text": [
      "(3, 4)\n",
      "Actual data : [[0. 0. 1.]\n",
      " [0. 1. 0.]\n",
      " [1. 0. 0.]]\n",
      "[[7.5039361e-03 2.0583186e-01 7.8666419e-01]\n",
      " [5.7041254e-02 8.7733132e-01 6.5627471e-02]\n",
      " [9.9999988e-01 1.7094068e-07 7.4173451e-17]]\n",
      "2\n",
      "1\n",
      "0\n"
     ]
    }
   ],
   "source": [
    "#Predição de um lote de dados\n",
    "new_data, y_actual = X_teste[:3], y_teste[:3]\n",
    "print(new_data.shape)              #Formato da entrada de dados\n",
    "y_proba = model.predict(new_data)  #Predição\n",
    "print(f\"Actual data : {y_actual}\")\n",
    "print(y_proba)                     #Matriz das probabilidades de predição\n",
    "for pred in y_proba:\n",
    "    print(np.argmax(pred))         #Retorna o índice com maior valor"
   ]
  },
  {
   "cell_type": "code",
   "execution_count": 31,
   "id": "7bff9346",
   "metadata": {},
   "outputs": [
    {
     "name": "stdout",
     "output_type": "stream",
     "text": [
      "(1, 4)\n",
      "[[0.00750394 0.20583186 0.7866642 ]]\n",
      "[0. 0. 1.]\n",
      "2\n"
     ]
    }
   ],
   "source": [
    "#Predição de 1 registro\n",
    "X_predict = np.array(X_teste[5])   #Registro selecionado\n",
    "y_correct_predict = y_teste[5]     #Classificação correta\n",
    "\n",
    "X_predict_list = list()            #Ajuste de dimensões (transposição)\n",
    "for i in X_predict:\n",
    "    X_predict_list.append([i])\n",
    "X_predict_transpose = np.array(X_predict_list).T\n",
    "print(X_predict_transpose.shape)\n",
    "\n",
    "y_predict = model.predict(X_predict_transpose)   #Predição\n",
    "print(y_predict)\n",
    "print(y_correct_predict)\n",
    "print(np.argmax(y_predict))\n"
   ]
  },
  {
   "cell_type": "code",
   "execution_count": 32,
   "id": "d918d20f",
   "metadata": {},
   "outputs": [
    {
     "name": "stdout",
     "output_type": "stream",
     "text": [
      "(1, 4)\n"
     ]
    },
    {
     "data": {
      "text/plain": [
       "array([[1.0000000e+00, 1.1520659e-28, 0.0000000e+00]], dtype=float32)"
      ]
     },
     "execution_count": 32,
     "metadata": {},
     "output_type": "execute_result"
    }
   ],
   "source": [
    "X = [[5, 7.2, 5.1, 2.2]]\n",
    "print(np.array(X).shape)\n",
    "y_proba = model.predict(X)   #Predição por entrada direta\n",
    "y_proba"
   ]
  },
  {
   "cell_type": "code",
   "execution_count": null,
   "id": "d0f98c7a",
   "metadata": {},
   "outputs": [],
   "source": []
  },
  {
   "cell_type": "code",
   "execution_count": null,
   "id": "42e8850c",
   "metadata": {},
   "outputs": [],
   "source": []
  },
  {
   "cell_type": "code",
   "execution_count": null,
   "id": "ac72a879",
   "metadata": {},
   "outputs": [],
   "source": []
  },
  {
   "cell_type": "code",
   "execution_count": null,
   "id": "af295620",
   "metadata": {},
   "outputs": [],
   "source": []
  },
  {
   "cell_type": "code",
   "execution_count": null,
   "id": "3493213d",
   "metadata": {},
   "outputs": [],
   "source": []
  },
  {
   "cell_type": "code",
   "execution_count": null,
   "id": "317a025f",
   "metadata": {},
   "outputs": [],
   "source": []
  },
  {
   "cell_type": "code",
   "execution_count": null,
   "id": "a57afda8",
   "metadata": {},
   "outputs": [],
   "source": []
  },
  {
   "cell_type": "code",
   "execution_count": null,
   "id": "b7e521b6",
   "metadata": {},
   "outputs": [],
   "source": []
  }
 ],
 "metadata": {
  "kernelspec": {
   "display_name": "Python 3",
   "language": "python",
   "name": "python3"
  },
  "language_info": {
   "codemirror_mode": {
    "name": "ipython",
    "version": 3
   },
   "file_extension": ".py",
   "mimetype": "text/x-python",
   "name": "python",
   "nbconvert_exporter": "python",
   "pygments_lexer": "ipython3",
   "version": "3.6.9"
  }
 },
 "nbformat": 4,
 "nbformat_minor": 5
}
