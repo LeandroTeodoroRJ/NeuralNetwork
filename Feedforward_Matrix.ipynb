{
 "cells": [
  {
   "cell_type": "markdown",
   "id": "a9add570",
   "metadata": {},
   "source": [
    "## Cálculo Feedforward com Matrizes"
   ]
  },
  {
   "cell_type": "code",
   "execution_count": 84,
   "id": "f45360a9",
   "metadata": {},
   "outputs": [],
   "source": [
    "import numpy as np"
   ]
  },
  {
   "attachments": {},
   "cell_type": "markdown",
   "id": "4f6d70c5",
   "metadata": {},
   "source": [
    "Estrutura de camadas da rede (3, 3, 2, 1) com bias. \n",
    "Veja figura: Fig5_RNA.tif;\n",
    "Função de ativação: tanh;\n",
    "Exemplo adaptado Redes Neurais Artificiais - Ivan Nunes da Silva - Cap 5."
   ]
  },
  {
   "cell_type": "code",
   "execution_count": 85,
   "id": "9b1a2c4a",
   "metadata": {},
   "outputs": [
    {
     "data": {
      "text/plain": [
       "array([[0.2, 0.4, 0.5],\n",
       "       [0.3, 0.6, 0.7],\n",
       "       [0.4, 0.8, 0.3]])"
      ]
     },
     "execution_count": 85,
     "metadata": {},
     "output_type": "execute_result"
    }
   ],
   "source": [
    "#Pesos da camada 1 (oculta)\n",
    "W1 = np.array([[0.2, 0.4, 0.5], [0.3, 0.6, 0.7], [0.4, 0.8, 0.3]])\n",
    "W1"
   ]
  },
  {
   "cell_type": "code",
   "execution_count": 86,
   "id": "292df4ef",
   "metadata": {},
   "outputs": [
    {
     "data": {
      "text/plain": [
       "array([[-0.7,  0.6,  0.2,  0.7],\n",
       "       [-0.3,  0.7,  0.2,  0.8]])"
      ]
     },
     "execution_count": 86,
     "metadata": {},
     "output_type": "execute_result"
    }
   ],
   "source": [
    "#Pesos da camada 2 (oculta)\n",
    "W2 = np.array([[-0.7, 0.6, 0.2, 0.7], [-0.3, 0.7, 0.2, 0.8]])\n",
    "W2"
   ]
  },
  {
   "cell_type": "code",
   "execution_count": 87,
   "id": "ec4a24bc",
   "metadata": {},
   "outputs": [
    {
     "data": {
      "text/plain": [
       "array([0.1, 0.8, 0.5])"
      ]
     },
     "execution_count": 87,
     "metadata": {},
     "output_type": "execute_result"
    }
   ],
   "source": [
    "#Pesos da camada 3 (saida)\n",
    "W3 = np.array([0.1, 0.8, 0.5])\n",
    "W3"
   ]
  },
  {
   "cell_type": "code",
   "execution_count": 88,
   "id": "14d3d368",
   "metadata": {},
   "outputs": [
    {
     "data": {
      "text/plain": [
       "array([[-1. ],\n",
       "       [ 0.3],\n",
       "       [ 0.7]])"
      ]
     },
     "execution_count": 88,
     "metadata": {},
     "output_type": "execute_result"
    }
   ],
   "source": [
    "#Entradas\n",
    "X = np.array([[-1, 0.3, 0.7]])\n",
    "X.T"
   ]
  },
  {
   "cell_type": "code",
   "execution_count": 89,
   "id": "a52b212a",
   "metadata": {},
   "outputs": [
    {
     "data": {
      "text/plain": [
       "array([[0.27],\n",
       "       [0.37],\n",
       "       [0.05]])"
      ]
     },
     "execution_count": 89,
     "metadata": {},
     "output_type": "execute_result"
    }
   ],
   "source": [
    "#Somatório dos neurônios da primeira camada\n",
    "I1 = np.dot(W1, X.T)\n",
    "I1"
   ]
  },
  {
   "cell_type": "code",
   "execution_count": 90,
   "id": "2e2ffa86",
   "metadata": {},
   "outputs": [
    {
     "data": {
      "text/plain": [
       "array([[0.26362484],\n",
       "       [0.35399171],\n",
       "       [0.04995837]])"
      ]
     },
     "execution_count": 90,
     "metadata": {},
     "output_type": "execute_result"
    }
   ],
   "source": [
    "#Saída da camada 1\n",
    "Y1 = np.tanh(I1)\n",
    "Y1"
   ]
  },
  {
   "cell_type": "code",
   "execution_count": 91,
   "id": "77af8f3b",
   "metadata": {},
   "outputs": [
    {
     "data": {
      "text/plain": [
       "array([[-1.        ],\n",
       "       [ 0.26362484],\n",
       "       [ 0.35399171],\n",
       "       [ 0.04995837]])"
      ]
     },
     "execution_count": 91,
     "metadata": {},
     "output_type": "execute_result"
    }
   ],
   "source": [
    "#Adidionando a entrada de Bias da próxima camada\n",
    "O1 = np.empty([len(Y1)+1, 1])  #Cria um array vazio com 1 posição a mais que Y1 em linhas e 1 coluna\n",
    "O1[0] = -1                     #Coloca na primrira posição a entrada de Bias\n",
    "for i in range(len(Y1)):       #Faz o append em coluna\n",
    "    O1[i+1] = Y1[i]\n",
    "O1\n",
    "\n"
   ]
  },
  {
   "cell_type": "code",
   "execution_count": 92,
   "id": "b1f6b8bc",
   "metadata": {},
   "outputs": [
    {
     "data": {
      "text/plain": [
       "array([[0.96394411],\n",
       "       [0.59530243]])"
      ]
     },
     "execution_count": 92,
     "metadata": {},
     "output_type": "execute_result"
    }
   ],
   "source": [
    "#Somatório dos neurônios da segunda camada\n",
    "I2 = np.dot(W2, O1)\n",
    "I2"
   ]
  },
  {
   "cell_type": "code",
   "execution_count": 93,
   "id": "a6d70d0e",
   "metadata": {},
   "outputs": [
    {
     "data": {
      "text/plain": [
       "array([[0.74603099],\n",
       "       [0.53369845]])"
      ]
     },
     "execution_count": 93,
     "metadata": {},
     "output_type": "execute_result"
    }
   ],
   "source": [
    "#Saída da camada 2\n",
    "Y2 = np.tanh(I2)\n",
    "Y2"
   ]
  },
  {
   "cell_type": "code",
   "execution_count": 94,
   "id": "b08e3188",
   "metadata": {},
   "outputs": [
    {
     "data": {
      "text/plain": [
       "array([[-1.        ],\n",
       "       [ 0.74603099],\n",
       "       [ 0.53369845]])"
      ]
     },
     "execution_count": 94,
     "metadata": {},
     "output_type": "execute_result"
    }
   ],
   "source": [
    "#Adidionando a entrada de Bias da próxima camada\n",
    "O2 = np.empty([len(Y2)+1, 1])  #Cria um array vazio com 1 posição a mais que Y1 em linhas e 1 coluna\n",
    "O2[0] = -1                     #Coloca na primrira posição a entrada de Bias\n",
    "for i in range(len(Y2)):       #Faz o append em coluna\n",
    "    O2[i+1] = Y2[i]\n",
    "O2"
   ]
  },
  {
   "cell_type": "code",
   "execution_count": 96,
   "id": "ae7271c3",
   "metadata": {},
   "outputs": [
    {
     "data": {
      "text/plain": [
       "array([0.76367401])"
      ]
     },
     "execution_count": 96,
     "metadata": {},
     "output_type": "execute_result"
    }
   ],
   "source": [
    "#Somatório dos neurônios da terceira camada (saída)\n",
    "I3 = np.dot(W3, O2)\n",
    "I3"
   ]
  },
  {
   "cell_type": "code",
   "execution_count": 97,
   "id": "c4a0bc53",
   "metadata": {},
   "outputs": [
    {
     "data": {
      "text/plain": [
       "array([0.64323593])"
      ]
     },
     "execution_count": 97,
     "metadata": {},
     "output_type": "execute_result"
    }
   ],
   "source": [
    "#Saída da camada 3 (saída da rede)\n",
    "Y3 = np.tanh(I3)\n",
    "Y3"
   ]
  },
  {
   "cell_type": "code",
   "execution_count": null,
   "id": "662552db",
   "metadata": {},
   "outputs": [],
   "source": []
  }
 ],
 "metadata": {
  "kernelspec": {
   "display_name": "Python 3",
   "language": "python",
   "name": "python3"
  },
  "language_info": {
   "codemirror_mode": {
    "name": "ipython",
    "version": 3
   },
   "file_extension": ".py",
   "mimetype": "text/x-python",
   "name": "python",
   "nbconvert_exporter": "python",
   "pygments_lexer": "ipython3",
   "version": "3.6.9"
  }
 },
 "nbformat": 4,
 "nbformat_minor": 5
}
