{
 "cells": [
  {
   "cell_type": "markdown",
   "id": "4aa8cbf6",
   "metadata": {},
   "source": [
    "## REGRESSÃO COM REDE NEURAL - TENSOR FLOW"
   ]
  },
  {
   "cell_type": "markdown",
   "id": "1c376292",
   "metadata": {},
   "source": [
    "O objetivo é estimar o preço das casas utilizando a base de dados house_prices junto com o framework TensorFlow."
   ]
  },
  {
   "cell_type": "markdown",
   "id": "1859ee7e",
   "metadata": {},
   "source": [
    "### Informações do sistema e importação de bibliotecas"
   ]
  },
  {
   "cell_type": "code",
   "execution_count": 90,
   "id": "73a56aa0",
   "metadata": {},
   "outputs": [
    {
     "name": "stdout",
     "output_type": "stream",
     "text": [
      "keras                   2.6.0\r\n"
     ]
    }
   ],
   "source": [
    "#Versaão do Keras\n",
    "!pip list | grep keras"
   ]
  },
  {
   "cell_type": "code",
   "execution_count": 91,
   "id": "1102148e",
   "metadata": {},
   "outputs": [
    {
     "name": "stdout",
     "output_type": "stream",
     "text": [
      "tensorflow              2.6.2\r\n",
      "tensorflow-estimator    2.6.0\r\n"
     ]
    }
   ],
   "source": [
    "#Versão do TensorFlow\n",
    "!pip list | grep tensorflow"
   ]
  },
  {
   "cell_type": "code",
   "execution_count": 92,
   "id": "cfe0d390",
   "metadata": {},
   "outputs": [],
   "source": [
    "#Importando bibliotecas\n",
    "import pandas as pd\n",
    "from sklearn.preprocessing import StandardScaler\n",
    "from sklearn.model_selection import train_test_split"
   ]
  },
  {
   "cell_type": "markdown",
   "id": "e37f7af6",
   "metadata": {},
   "source": [
    "### Preprocessamento"
   ]
  },
  {
   "cell_type": "code",
   "execution_count": 93,
   "id": "657887c5",
   "metadata": {},
   "outputs": [
    {
     "data": {
      "text/html": [
       "<div>\n",
       "<style scoped>\n",
       "    .dataframe tbody tr th:only-of-type {\n",
       "        vertical-align: middle;\n",
       "    }\n",
       "\n",
       "    .dataframe tbody tr th {\n",
       "        vertical-align: top;\n",
       "    }\n",
       "\n",
       "    .dataframe thead th {\n",
       "        text-align: right;\n",
       "    }\n",
       "</style>\n",
       "<table border=\"1\" class=\"dataframe\">\n",
       "  <thead>\n",
       "    <tr style=\"text-align: right;\">\n",
       "      <th></th>\n",
       "      <th>id</th>\n",
       "      <th>date</th>\n",
       "      <th>price</th>\n",
       "      <th>bedrooms</th>\n",
       "      <th>bathrooms</th>\n",
       "      <th>sqft_living</th>\n",
       "      <th>sqft_lot</th>\n",
       "      <th>floors</th>\n",
       "      <th>waterfront</th>\n",
       "      <th>view</th>\n",
       "      <th>...</th>\n",
       "      <th>grade</th>\n",
       "      <th>sqft_above</th>\n",
       "      <th>sqft_basement</th>\n",
       "      <th>yr_built</th>\n",
       "      <th>yr_renovated</th>\n",
       "      <th>zipcode</th>\n",
       "      <th>lat</th>\n",
       "      <th>long</th>\n",
       "      <th>sqft_living15</th>\n",
       "      <th>sqft_lot15</th>\n",
       "    </tr>\n",
       "  </thead>\n",
       "  <tbody>\n",
       "    <tr>\n",
       "      <th>21608</th>\n",
       "      <td>263000018</td>\n",
       "      <td>20140521T000000</td>\n",
       "      <td>360000.0</td>\n",
       "      <td>3</td>\n",
       "      <td>2.50</td>\n",
       "      <td>1530</td>\n",
       "      <td>1131</td>\n",
       "      <td>3.0</td>\n",
       "      <td>0</td>\n",
       "      <td>0</td>\n",
       "      <td>...</td>\n",
       "      <td>8</td>\n",
       "      <td>1530</td>\n",
       "      <td>0</td>\n",
       "      <td>2009</td>\n",
       "      <td>0</td>\n",
       "      <td>98103</td>\n",
       "      <td>47.6993</td>\n",
       "      <td>-122.346</td>\n",
       "      <td>1530</td>\n",
       "      <td>1509</td>\n",
       "    </tr>\n",
       "    <tr>\n",
       "      <th>21609</th>\n",
       "      <td>6600060120</td>\n",
       "      <td>20150223T000000</td>\n",
       "      <td>400000.0</td>\n",
       "      <td>4</td>\n",
       "      <td>2.50</td>\n",
       "      <td>2310</td>\n",
       "      <td>5813</td>\n",
       "      <td>2.0</td>\n",
       "      <td>0</td>\n",
       "      <td>0</td>\n",
       "      <td>...</td>\n",
       "      <td>8</td>\n",
       "      <td>2310</td>\n",
       "      <td>0</td>\n",
       "      <td>2014</td>\n",
       "      <td>0</td>\n",
       "      <td>98146</td>\n",
       "      <td>47.5107</td>\n",
       "      <td>-122.362</td>\n",
       "      <td>1830</td>\n",
       "      <td>7200</td>\n",
       "    </tr>\n",
       "    <tr>\n",
       "      <th>21610</th>\n",
       "      <td>1523300141</td>\n",
       "      <td>20140623T000000</td>\n",
       "      <td>402101.0</td>\n",
       "      <td>2</td>\n",
       "      <td>0.75</td>\n",
       "      <td>1020</td>\n",
       "      <td>1350</td>\n",
       "      <td>2.0</td>\n",
       "      <td>0</td>\n",
       "      <td>0</td>\n",
       "      <td>...</td>\n",
       "      <td>7</td>\n",
       "      <td>1020</td>\n",
       "      <td>0</td>\n",
       "      <td>2009</td>\n",
       "      <td>0</td>\n",
       "      <td>98144</td>\n",
       "      <td>47.5944</td>\n",
       "      <td>-122.299</td>\n",
       "      <td>1020</td>\n",
       "      <td>2007</td>\n",
       "    </tr>\n",
       "    <tr>\n",
       "      <th>21611</th>\n",
       "      <td>291310100</td>\n",
       "      <td>20150116T000000</td>\n",
       "      <td>400000.0</td>\n",
       "      <td>3</td>\n",
       "      <td>2.50</td>\n",
       "      <td>1600</td>\n",
       "      <td>2388</td>\n",
       "      <td>2.0</td>\n",
       "      <td>0</td>\n",
       "      <td>0</td>\n",
       "      <td>...</td>\n",
       "      <td>8</td>\n",
       "      <td>1600</td>\n",
       "      <td>0</td>\n",
       "      <td>2004</td>\n",
       "      <td>0</td>\n",
       "      <td>98027</td>\n",
       "      <td>47.5345</td>\n",
       "      <td>-122.069</td>\n",
       "      <td>1410</td>\n",
       "      <td>1287</td>\n",
       "    </tr>\n",
       "    <tr>\n",
       "      <th>21612</th>\n",
       "      <td>1523300157</td>\n",
       "      <td>20141015T000000</td>\n",
       "      <td>325000.0</td>\n",
       "      <td>2</td>\n",
       "      <td>0.75</td>\n",
       "      <td>1020</td>\n",
       "      <td>1076</td>\n",
       "      <td>2.0</td>\n",
       "      <td>0</td>\n",
       "      <td>0</td>\n",
       "      <td>...</td>\n",
       "      <td>7</td>\n",
       "      <td>1020</td>\n",
       "      <td>0</td>\n",
       "      <td>2008</td>\n",
       "      <td>0</td>\n",
       "      <td>98144</td>\n",
       "      <td>47.5941</td>\n",
       "      <td>-122.299</td>\n",
       "      <td>1020</td>\n",
       "      <td>1357</td>\n",
       "    </tr>\n",
       "  </tbody>\n",
       "</table>\n",
       "<p>5 rows × 21 columns</p>\n",
       "</div>"
      ],
      "text/plain": [
       "               id             date     price  bedrooms  bathrooms  \\\n",
       "21608   263000018  20140521T000000  360000.0         3       2.50   \n",
       "21609  6600060120  20150223T000000  400000.0         4       2.50   \n",
       "21610  1523300141  20140623T000000  402101.0         2       0.75   \n",
       "21611   291310100  20150116T000000  400000.0         3       2.50   \n",
       "21612  1523300157  20141015T000000  325000.0         2       0.75   \n",
       "\n",
       "       sqft_living  sqft_lot  floors  waterfront  view  ...  grade  \\\n",
       "21608         1530      1131     3.0           0     0  ...      8   \n",
       "21609         2310      5813     2.0           0     0  ...      8   \n",
       "21610         1020      1350     2.0           0     0  ...      7   \n",
       "21611         1600      2388     2.0           0     0  ...      8   \n",
       "21612         1020      1076     2.0           0     0  ...      7   \n",
       "\n",
       "       sqft_above  sqft_basement  yr_built  yr_renovated  zipcode      lat  \\\n",
       "21608        1530              0      2009             0    98103  47.6993   \n",
       "21609        2310              0      2014             0    98146  47.5107   \n",
       "21610        1020              0      2009             0    98144  47.5944   \n",
       "21611        1600              0      2004             0    98027  47.5345   \n",
       "21612        1020              0      2008             0    98144  47.5941   \n",
       "\n",
       "          long  sqft_living15  sqft_lot15  \n",
       "21608 -122.346           1530        1509  \n",
       "21609 -122.362           1830        7200  \n",
       "21610 -122.299           1020        2007  \n",
       "21611 -122.069           1410        1287  \n",
       "21612 -122.299           1020        1357  \n",
       "\n",
       "[5 rows x 21 columns]"
      ]
     },
     "execution_count": 93,
     "metadata": {},
     "output_type": "execute_result"
    }
   ],
   "source": [
    "#Leitura da base de dados\n",
    "base = pd.read_csv('house_prices.csv')\n",
    "base.tail()"
   ]
  },
  {
   "cell_type": "code",
   "execution_count": 94,
   "id": "299abc1f",
   "metadata": {},
   "outputs": [
    {
     "data": {
      "text/html": [
       "<div>\n",
       "<style scoped>\n",
       "    .dataframe tbody tr th:only-of-type {\n",
       "        vertical-align: middle;\n",
       "    }\n",
       "\n",
       "    .dataframe tbody tr th {\n",
       "        vertical-align: top;\n",
       "    }\n",
       "\n",
       "    .dataframe thead th {\n",
       "        text-align: right;\n",
       "    }\n",
       "</style>\n",
       "<table border=\"1\" class=\"dataframe\">\n",
       "  <thead>\n",
       "    <tr style=\"text-align: right;\">\n",
       "      <th></th>\n",
       "      <th>id</th>\n",
       "      <th>price</th>\n",
       "      <th>bedrooms</th>\n",
       "      <th>bathrooms</th>\n",
       "      <th>sqft_living</th>\n",
       "      <th>sqft_lot</th>\n",
       "      <th>floors</th>\n",
       "      <th>waterfront</th>\n",
       "      <th>view</th>\n",
       "      <th>condition</th>\n",
       "      <th>grade</th>\n",
       "      <th>sqft_above</th>\n",
       "      <th>sqft_basement</th>\n",
       "      <th>yr_built</th>\n",
       "      <th>yr_renovated</th>\n",
       "      <th>zipcode</th>\n",
       "      <th>lat</th>\n",
       "      <th>long</th>\n",
       "      <th>sqft_living15</th>\n",
       "      <th>sqft_lot15</th>\n",
       "    </tr>\n",
       "  </thead>\n",
       "  <tbody>\n",
       "    <tr>\n",
       "      <th>count</th>\n",
       "      <td>2.161300e+04</td>\n",
       "      <td>2.161300e+04</td>\n",
       "      <td>21613.000000</td>\n",
       "      <td>21613.000000</td>\n",
       "      <td>21613.000000</td>\n",
       "      <td>2.161300e+04</td>\n",
       "      <td>21613.000000</td>\n",
       "      <td>21613.000000</td>\n",
       "      <td>21613.000000</td>\n",
       "      <td>21613.000000</td>\n",
       "      <td>21613.000000</td>\n",
       "      <td>21613.000000</td>\n",
       "      <td>21613.000000</td>\n",
       "      <td>21613.000000</td>\n",
       "      <td>21613.000000</td>\n",
       "      <td>21613.000000</td>\n",
       "      <td>21613.000000</td>\n",
       "      <td>21613.000000</td>\n",
       "      <td>21613.000000</td>\n",
       "      <td>21613.000000</td>\n",
       "    </tr>\n",
       "    <tr>\n",
       "      <th>mean</th>\n",
       "      <td>4.580302e+09</td>\n",
       "      <td>5.400881e+05</td>\n",
       "      <td>3.370842</td>\n",
       "      <td>2.114757</td>\n",
       "      <td>2079.899736</td>\n",
       "      <td>1.510697e+04</td>\n",
       "      <td>1.494309</td>\n",
       "      <td>0.007542</td>\n",
       "      <td>0.234303</td>\n",
       "      <td>3.409430</td>\n",
       "      <td>7.656873</td>\n",
       "      <td>1788.390691</td>\n",
       "      <td>291.509045</td>\n",
       "      <td>1971.005136</td>\n",
       "      <td>84.402258</td>\n",
       "      <td>98077.939805</td>\n",
       "      <td>47.560053</td>\n",
       "      <td>-122.213896</td>\n",
       "      <td>1986.552492</td>\n",
       "      <td>12768.455652</td>\n",
       "    </tr>\n",
       "    <tr>\n",
       "      <th>std</th>\n",
       "      <td>2.876566e+09</td>\n",
       "      <td>3.671272e+05</td>\n",
       "      <td>0.930062</td>\n",
       "      <td>0.770163</td>\n",
       "      <td>918.440897</td>\n",
       "      <td>4.142051e+04</td>\n",
       "      <td>0.539989</td>\n",
       "      <td>0.086517</td>\n",
       "      <td>0.766318</td>\n",
       "      <td>0.650743</td>\n",
       "      <td>1.175459</td>\n",
       "      <td>828.090978</td>\n",
       "      <td>442.575043</td>\n",
       "      <td>29.373411</td>\n",
       "      <td>401.679240</td>\n",
       "      <td>53.505026</td>\n",
       "      <td>0.138564</td>\n",
       "      <td>0.140828</td>\n",
       "      <td>685.391304</td>\n",
       "      <td>27304.179631</td>\n",
       "    </tr>\n",
       "    <tr>\n",
       "      <th>min</th>\n",
       "      <td>1.000102e+06</td>\n",
       "      <td>7.500000e+04</td>\n",
       "      <td>0.000000</td>\n",
       "      <td>0.000000</td>\n",
       "      <td>290.000000</td>\n",
       "      <td>5.200000e+02</td>\n",
       "      <td>1.000000</td>\n",
       "      <td>0.000000</td>\n",
       "      <td>0.000000</td>\n",
       "      <td>1.000000</td>\n",
       "      <td>1.000000</td>\n",
       "      <td>290.000000</td>\n",
       "      <td>0.000000</td>\n",
       "      <td>1900.000000</td>\n",
       "      <td>0.000000</td>\n",
       "      <td>98001.000000</td>\n",
       "      <td>47.155900</td>\n",
       "      <td>-122.519000</td>\n",
       "      <td>399.000000</td>\n",
       "      <td>651.000000</td>\n",
       "    </tr>\n",
       "    <tr>\n",
       "      <th>25%</th>\n",
       "      <td>2.123049e+09</td>\n",
       "      <td>3.219500e+05</td>\n",
       "      <td>3.000000</td>\n",
       "      <td>1.750000</td>\n",
       "      <td>1427.000000</td>\n",
       "      <td>5.040000e+03</td>\n",
       "      <td>1.000000</td>\n",
       "      <td>0.000000</td>\n",
       "      <td>0.000000</td>\n",
       "      <td>3.000000</td>\n",
       "      <td>7.000000</td>\n",
       "      <td>1190.000000</td>\n",
       "      <td>0.000000</td>\n",
       "      <td>1951.000000</td>\n",
       "      <td>0.000000</td>\n",
       "      <td>98033.000000</td>\n",
       "      <td>47.471000</td>\n",
       "      <td>-122.328000</td>\n",
       "      <td>1490.000000</td>\n",
       "      <td>5100.000000</td>\n",
       "    </tr>\n",
       "    <tr>\n",
       "      <th>50%</th>\n",
       "      <td>3.904930e+09</td>\n",
       "      <td>4.500000e+05</td>\n",
       "      <td>3.000000</td>\n",
       "      <td>2.250000</td>\n",
       "      <td>1910.000000</td>\n",
       "      <td>7.618000e+03</td>\n",
       "      <td>1.500000</td>\n",
       "      <td>0.000000</td>\n",
       "      <td>0.000000</td>\n",
       "      <td>3.000000</td>\n",
       "      <td>7.000000</td>\n",
       "      <td>1560.000000</td>\n",
       "      <td>0.000000</td>\n",
       "      <td>1975.000000</td>\n",
       "      <td>0.000000</td>\n",
       "      <td>98065.000000</td>\n",
       "      <td>47.571800</td>\n",
       "      <td>-122.230000</td>\n",
       "      <td>1840.000000</td>\n",
       "      <td>7620.000000</td>\n",
       "    </tr>\n",
       "    <tr>\n",
       "      <th>75%</th>\n",
       "      <td>7.308900e+09</td>\n",
       "      <td>6.450000e+05</td>\n",
       "      <td>4.000000</td>\n",
       "      <td>2.500000</td>\n",
       "      <td>2550.000000</td>\n",
       "      <td>1.068800e+04</td>\n",
       "      <td>2.000000</td>\n",
       "      <td>0.000000</td>\n",
       "      <td>0.000000</td>\n",
       "      <td>4.000000</td>\n",
       "      <td>8.000000</td>\n",
       "      <td>2210.000000</td>\n",
       "      <td>560.000000</td>\n",
       "      <td>1997.000000</td>\n",
       "      <td>0.000000</td>\n",
       "      <td>98118.000000</td>\n",
       "      <td>47.678000</td>\n",
       "      <td>-122.125000</td>\n",
       "      <td>2360.000000</td>\n",
       "      <td>10083.000000</td>\n",
       "    </tr>\n",
       "    <tr>\n",
       "      <th>max</th>\n",
       "      <td>9.900000e+09</td>\n",
       "      <td>7.700000e+06</td>\n",
       "      <td>33.000000</td>\n",
       "      <td>8.000000</td>\n",
       "      <td>13540.000000</td>\n",
       "      <td>1.651359e+06</td>\n",
       "      <td>3.500000</td>\n",
       "      <td>1.000000</td>\n",
       "      <td>4.000000</td>\n",
       "      <td>5.000000</td>\n",
       "      <td>13.000000</td>\n",
       "      <td>9410.000000</td>\n",
       "      <td>4820.000000</td>\n",
       "      <td>2015.000000</td>\n",
       "      <td>2015.000000</td>\n",
       "      <td>98199.000000</td>\n",
       "      <td>47.777600</td>\n",
       "      <td>-121.315000</td>\n",
       "      <td>6210.000000</td>\n",
       "      <td>871200.000000</td>\n",
       "    </tr>\n",
       "  </tbody>\n",
       "</table>\n",
       "</div>"
      ],
      "text/plain": [
       "                 id         price      bedrooms     bathrooms   sqft_living  \\\n",
       "count  2.161300e+04  2.161300e+04  21613.000000  21613.000000  21613.000000   \n",
       "mean   4.580302e+09  5.400881e+05      3.370842      2.114757   2079.899736   \n",
       "std    2.876566e+09  3.671272e+05      0.930062      0.770163    918.440897   \n",
       "min    1.000102e+06  7.500000e+04      0.000000      0.000000    290.000000   \n",
       "25%    2.123049e+09  3.219500e+05      3.000000      1.750000   1427.000000   \n",
       "50%    3.904930e+09  4.500000e+05      3.000000      2.250000   1910.000000   \n",
       "75%    7.308900e+09  6.450000e+05      4.000000      2.500000   2550.000000   \n",
       "max    9.900000e+09  7.700000e+06     33.000000      8.000000  13540.000000   \n",
       "\n",
       "           sqft_lot        floors    waterfront          view     condition  \\\n",
       "count  2.161300e+04  21613.000000  21613.000000  21613.000000  21613.000000   \n",
       "mean   1.510697e+04      1.494309      0.007542      0.234303      3.409430   \n",
       "std    4.142051e+04      0.539989      0.086517      0.766318      0.650743   \n",
       "min    5.200000e+02      1.000000      0.000000      0.000000      1.000000   \n",
       "25%    5.040000e+03      1.000000      0.000000      0.000000      3.000000   \n",
       "50%    7.618000e+03      1.500000      0.000000      0.000000      3.000000   \n",
       "75%    1.068800e+04      2.000000      0.000000      0.000000      4.000000   \n",
       "max    1.651359e+06      3.500000      1.000000      4.000000      5.000000   \n",
       "\n",
       "              grade    sqft_above  sqft_basement      yr_built  yr_renovated  \\\n",
       "count  21613.000000  21613.000000   21613.000000  21613.000000  21613.000000   \n",
       "mean       7.656873   1788.390691     291.509045   1971.005136     84.402258   \n",
       "std        1.175459    828.090978     442.575043     29.373411    401.679240   \n",
       "min        1.000000    290.000000       0.000000   1900.000000      0.000000   \n",
       "25%        7.000000   1190.000000       0.000000   1951.000000      0.000000   \n",
       "50%        7.000000   1560.000000       0.000000   1975.000000      0.000000   \n",
       "75%        8.000000   2210.000000     560.000000   1997.000000      0.000000   \n",
       "max       13.000000   9410.000000    4820.000000   2015.000000   2015.000000   \n",
       "\n",
       "            zipcode           lat          long  sqft_living15     sqft_lot15  \n",
       "count  21613.000000  21613.000000  21613.000000   21613.000000   21613.000000  \n",
       "mean   98077.939805     47.560053   -122.213896    1986.552492   12768.455652  \n",
       "std       53.505026      0.138564      0.140828     685.391304   27304.179631  \n",
       "min    98001.000000     47.155900   -122.519000     399.000000     651.000000  \n",
       "25%    98033.000000     47.471000   -122.328000    1490.000000    5100.000000  \n",
       "50%    98065.000000     47.571800   -122.230000    1840.000000    7620.000000  \n",
       "75%    98118.000000     47.678000   -122.125000    2360.000000   10083.000000  \n",
       "max    98199.000000     47.777600   -121.315000    6210.000000  871200.000000  "
      ]
     },
     "execution_count": 94,
     "metadata": {},
     "output_type": "execute_result"
    }
   ],
   "source": [
    "#Informações iniciais da base de dados\n",
    "base.describe()"
   ]
  },
  {
   "cell_type": "code",
   "execution_count": 95,
   "id": "b7a04f3f",
   "metadata": {},
   "outputs": [
    {
     "name": "stdout",
     "output_type": "stream",
     "text": [
      "<class 'pandas.core.frame.DataFrame'>\n",
      "RangeIndex: 21613 entries, 0 to 21612\n",
      "Data columns (total 21 columns):\n",
      " #   Column         Non-Null Count  Dtype  \n",
      "---  ------         --------------  -----  \n",
      " 0   id             21613 non-null  int64  \n",
      " 1   date           21613 non-null  object \n",
      " 2   price          21613 non-null  float64\n",
      " 3   bedrooms       21613 non-null  int64  \n",
      " 4   bathrooms      21613 non-null  float64\n",
      " 5   sqft_living    21613 non-null  int64  \n",
      " 6   sqft_lot       21613 non-null  int64  \n",
      " 7   floors         21613 non-null  float64\n",
      " 8   waterfront     21613 non-null  int64  \n",
      " 9   view           21613 non-null  int64  \n",
      " 10  condition      21613 non-null  int64  \n",
      " 11  grade          21613 non-null  int64  \n",
      " 12  sqft_above     21613 non-null  int64  \n",
      " 13  sqft_basement  21613 non-null  int64  \n",
      " 14  yr_built       21613 non-null  int64  \n",
      " 15  yr_renovated   21613 non-null  int64  \n",
      " 16  zipcode        21613 non-null  int64  \n",
      " 17  lat            21613 non-null  float64\n",
      " 18  long           21613 non-null  float64\n",
      " 19  sqft_living15  21613 non-null  int64  \n",
      " 20  sqft_lot15     21613 non-null  int64  \n",
      "dtypes: float64(5), int64(15), object(1)\n",
      "memory usage: 3.5+ MB\n"
     ]
    }
   ],
   "source": [
    "base.info()"
   ]
  },
  {
   "cell_type": "code",
   "execution_count": 96,
   "id": "f6d3ec54",
   "metadata": {},
   "outputs": [],
   "source": [
    "#Apagando registros com quartos e banheiros zerados\n",
    "\n",
    "bedroom_col_index = base.columns.get_loc(\"bedrooms\")\n",
    "bathroom_col_index = base.columns.get_loc(\"bathrooms\")\n",
    "\n",
    "# iloc[<index>, <index col>]\n",
    "# <data frame>.drop(<name>, inplace=True, axis = 0)  para linha\n",
    "# <data frame>.drop(<list of names>, inplace=True, axis = 0) \n",
    "\n",
    "\n",
    "del_list = list()\n",
    "for i in range(0, len(base)):   # len(base): índice do último registro\n",
    "    if (base.iloc[i, bedroom_col_index] == 0): \n",
    "        del_list.append(base.iloc[i].name)\n",
    "base.drop(del_list, inplace=True, axis = 0)   #Deletando uma lista de linhas\n",
    "        \n",
    "\n",
    "del_list = list()\n",
    "for i in range(0, len(base)):   # len(base): índice do último registro\n",
    "    if (base.iloc[i, bathroom_col_index] == 0): \n",
    "        del_list.append(base.iloc[i].name)\n",
    "base.drop(del_list, inplace=True, axis = 0)"
   ]
  },
  {
   "cell_type": "code",
   "execution_count": 97,
   "id": "802ada03",
   "metadata": {},
   "outputs": [
    {
     "name": "stdout",
     "output_type": "stream",
     "text": [
      "\n",
      "Registros com preços negativos:\n",
      "Empty DataFrame\n",
      "Columns: [id, date, price, bedrooms, bathrooms, sqft_living, sqft_lot, floors, waterfront, view, condition, grade, sqft_above, sqft_basement, yr_built, yr_renovated, zipcode, lat, long, sqft_living15, sqft_lot15]\n",
      "Index: []\n",
      "\n",
      "[0 rows x 21 columns]\n"
     ]
    }
   ],
   "source": [
    "# Verificando valores inconsistentes da variável de saída\n",
    "print(\"\\nRegistros com preços negativos:\")\n",
    "print(base.loc[base[\"price\"] < 0])  #Retorna os registros com valores negativos para cada atributo\n"
   ]
  },
  {
   "cell_type": "markdown",
   "id": "599603cf",
   "metadata": {},
   "source": [
    "### Visualização de dados"
   ]
  },
  {
   "cell_type": "code",
   "execution_count": 98,
   "id": "d20a41da",
   "metadata": {},
   "outputs": [],
   "source": [
    "#Visualização gráfica\n",
    "import matplotlib.pyplot as plt"
   ]
  },
  {
   "cell_type": "code",
   "execution_count": 99,
   "id": "efb3dbda",
   "metadata": {},
   "outputs": [
    {
     "data": {
      "image/png": "[encoded data removed]",
      "text/plain": [
       "<Figure size 432x288 with 1 Axes>"
      ]
     },
     "metadata": {
      "needs_background": "light"
     },
     "output_type": "display_data"
    }
   ],
   "source": [
    "#Observando algumas distribuições\n",
    "plt.hist(x = base['price'], bins=50, range=(0, 4e6));"
   ]
  },
  {
   "cell_type": "code",
   "execution_count": 100,
   "id": "0d954536",
   "metadata": {},
   "outputs": [],
   "source": [
    "#Removendo os outliers de price\n",
    "#Apagando os registros fora do limite de u+2*std ou u-2*std\n",
    "price_mean = 5.400881e+05\n",
    "price_std = 3.671272e+05\n",
    "sup_lim = price_mean+2*price_std\n",
    "inf_lim = price_mean-2*price_std\n",
    "\n",
    "dfw = base[base['price'] < sup_lim]\n",
    "dfw = dfw[dfw['price'] > inf_lim]\n",
    "base = dfw\n"
   ]
  },
  {
   "cell_type": "code",
   "execution_count": 101,
   "id": "a891573c",
   "metadata": {},
   "outputs": [
    {
     "data": {
      "image/png": "[encoded data removed]",
      "text/plain": [
       "<Figure size 432x288 with 1 Axes>"
      ]
     },
     "metadata": {
      "needs_background": "light"
     },
     "output_type": "display_data"
    }
   ],
   "source": [
    "#Observando o corte\n",
    "plt.hist(x = base['price'], bins=50, range=(0, 4e6));"
   ]
  },
  {
   "cell_type": "code",
   "execution_count": 102,
   "id": "e9a20429",
   "metadata": {},
   "outputs": [],
   "source": [
    "#Cast e arredondamentos\n",
    "from math import ceil\n",
    "\n",
    "bathroom_col_index = base.columns.get_loc(\"bathrooms\")\n",
    "floors_col_index = base.columns.get_loc(\"floors\")\n",
    "\n",
    "for i in range(0, len(base)):\n",
    "    base.iloc[i, bathroom_col_index] = ceil(base.iloc[i, bathroom_col_index])  #Arredonda para cima\n",
    "    base.iloc[i, floors_col_index] = ceil(base.iloc[i, floors_col_index])\n",
    "\n",
    "#Cast para inteiro\n",
    "base['bathrooms'] = base['bathrooms'].astype('int')\n",
    "base['floors'] = base['floors'].astype('int')"
   ]
  },
  {
   "cell_type": "markdown",
   "id": "34130fe9",
   "metadata": {},
   "source": [
    "### Preparação para entrada no modelo"
   ]
  },
  {
   "cell_type": "code",
   "execution_count": 103,
   "id": "fa9c90f7",
   "metadata": {},
   "outputs": [],
   "source": [
    "import numpy as np"
   ]
  },
  {
   "cell_type": "code",
   "execution_count": 104,
   "id": "6c6969d4",
   "metadata": {},
   "outputs": [
    {
     "name": "stdout",
     "output_type": "stream",
     "text": [
      "\n",
      "Atributos ou variáveis de entrada:\n",
      "   bedrooms  bathrooms  sqft_living  sqft_lot  floors  waterfront  view  \\\n",
      "0         3          1         1180      5650       1           0     0   \n",
      "1         3          3         2570      7242       2           0     0   \n",
      "2         2          1          770     10000       1           0     0   \n",
      "3         4          3         1960      5000       1           0     0   \n",
      "4         3          2         1680      8080       1           0     0   \n",
      "\n",
      "   condition  grade  sqft_above  sqft_basement  yr_built  yr_renovated  \\\n",
      "0          3      7        1180              0      1955             0   \n",
      "1          3      7        2170            400      1951          1991   \n",
      "2          3      6         770              0      1933             0   \n",
      "3          5      7        1050            910      1965             0   \n",
      "4          3      8        1680              0      1987             0   \n",
      "\n",
      "   zipcode      lat     long  \n",
      "0    98178  47.5112 -122.257  \n",
      "1    98125  47.7210 -122.319  \n",
      "2    98028  47.7379 -122.233  \n",
      "3    98136  47.5208 -122.393  \n",
      "4    98074  47.6168 -122.045  \n",
      "\n",
      "Variável de predição:\n",
      "      price\n",
      "0  221900.0\n",
      "1  538000.0\n",
      "2  180000.0\n",
      "3  604000.0\n",
      "4  510000.0\n"
     ]
    }
   ],
   "source": [
    "#SLIPT\n",
    "#Feature selection e definição da variável de predição\n",
    "df_X = base.iloc[:, 3:19]\n",
    "df_y = base.iloc[:, 2:3]\n",
    "print(\"\\nAtributos ou variáveis de entrada:\")\n",
    "print(df_X.head())\n",
    "print(\"\\nVariável de predição:\")\n",
    "print(df_y.head())"
   ]
  },
  {
   "cell_type": "code",
   "execution_count": 105,
   "id": "357c65d8",
   "metadata": {},
   "outputs": [
    {
     "name": "stdout",
     "output_type": "stream",
     "text": [
      "<class 'pandas.core.frame.DataFrame'>\n",
      "Int64Index: 20755 entries, 0 to 21612\n",
      "Data columns (total 7 columns):\n",
      " #   Column       Non-Null Count  Dtype\n",
      "---  ------       --------------  -----\n",
      " 0   bedrooms     20755 non-null  int64\n",
      " 1   bathrooms    20755 non-null  int64\n",
      " 2   sqft_living  20755 non-null  int64\n",
      " 3   floors       20755 non-null  int64\n",
      " 4   condition    20755 non-null  int64\n",
      " 5   sqft_above   20755 non-null  int64\n",
      " 6   yr_built     20755 non-null  int64\n",
      "dtypes: int64(7)\n",
      "memory usage: 1.3 MB\n",
      "None\n"
     ]
    },
    {
     "data": {
      "text/html": [
       "<div>\n",
       "<style scoped>\n",
       "    .dataframe tbody tr th:only-of-type {\n",
       "        vertical-align: middle;\n",
       "    }\n",
       "\n",
       "    .dataframe tbody tr th {\n",
       "        vertical-align: top;\n",
       "    }\n",
       "\n",
       "    .dataframe thead th {\n",
       "        text-align: right;\n",
       "    }\n",
       "</style>\n",
       "<table border=\"1\" class=\"dataframe\">\n",
       "  <thead>\n",
       "    <tr style=\"text-align: right;\">\n",
       "      <th></th>\n",
       "      <th>bedrooms</th>\n",
       "      <th>bathrooms</th>\n",
       "      <th>sqft_living</th>\n",
       "      <th>floors</th>\n",
       "      <th>condition</th>\n",
       "      <th>sqft_above</th>\n",
       "      <th>yr_built</th>\n",
       "    </tr>\n",
       "  </thead>\n",
       "  <tbody>\n",
       "    <tr>\n",
       "      <th>0</th>\n",
       "      <td>3</td>\n",
       "      <td>1</td>\n",
       "      <td>1180</td>\n",
       "      <td>1</td>\n",
       "      <td>3</td>\n",
       "      <td>1180</td>\n",
       "      <td>1955</td>\n",
       "    </tr>\n",
       "    <tr>\n",
       "      <th>1</th>\n",
       "      <td>3</td>\n",
       "      <td>3</td>\n",
       "      <td>2570</td>\n",
       "      <td>2</td>\n",
       "      <td>3</td>\n",
       "      <td>2170</td>\n",
       "      <td>1951</td>\n",
       "    </tr>\n",
       "    <tr>\n",
       "      <th>2</th>\n",
       "      <td>2</td>\n",
       "      <td>1</td>\n",
       "      <td>770</td>\n",
       "      <td>1</td>\n",
       "      <td>3</td>\n",
       "      <td>770</td>\n",
       "      <td>1933</td>\n",
       "    </tr>\n",
       "    <tr>\n",
       "      <th>3</th>\n",
       "      <td>4</td>\n",
       "      <td>3</td>\n",
       "      <td>1960</td>\n",
       "      <td>1</td>\n",
       "      <td>5</td>\n",
       "      <td>1050</td>\n",
       "      <td>1965</td>\n",
       "    </tr>\n",
       "    <tr>\n",
       "      <th>4</th>\n",
       "      <td>3</td>\n",
       "      <td>2</td>\n",
       "      <td>1680</td>\n",
       "      <td>1</td>\n",
       "      <td>3</td>\n",
       "      <td>1680</td>\n",
       "      <td>1987</td>\n",
       "    </tr>\n",
       "  </tbody>\n",
       "</table>\n",
       "</div>"
      ],
      "text/plain": [
       "   bedrooms  bathrooms  sqft_living  floors  condition  sqft_above  yr_built\n",
       "0         3          1         1180       1          3        1180      1955\n",
       "1         3          3         2570       2          3        2170      1951\n",
       "2         2          1          770       1          3         770      1933\n",
       "3         4          3         1960       1          5        1050      1965\n",
       "4         3          2         1680       1          3        1680      1987"
      ]
     },
     "execution_count": 105,
     "metadata": {},
     "output_type": "execute_result"
    }
   ],
   "source": [
    "#Remoção de atributos na base de dados para simplificação\n",
    "# <dataframe>.drop(labels=\"<colum name>\", axis='columns')\n",
    "df_X.drop(columns = [\"lat\", \"long\", \"waterfront\", \"view\", \"sqft_basement\", \"yr_renovated\", \"sqft_lot\", \"grade\", \"zipcode\"], inplace = True)\n",
    "print(df_X.info())\n",
    "df_X.head()"
   ]
  },
  {
   "cell_type": "code",
   "execution_count": 106,
   "id": "33a663be",
   "metadata": {},
   "outputs": [
    {
     "name": "stdout",
     "output_type": "stream",
     "text": [
      "[[   3    1 1180    1    3 1180 1955]\n",
      " [   3    3 2570    2    3 2170 1951]\n",
      " [   2    1  770    1    3  770 1933]\n",
      " [   4    3 1960    1    5 1050 1965]\n",
      " [   3    2 1680    1    3 1680 1987]]\n",
      "[[221900.]\n",
      " [538000.]\n",
      " [180000.]\n",
      " [604000.]\n",
      " [510000.]]\n"
     ]
    }
   ],
   "source": [
    "#Transformação para array\n",
    "Xnp = df_X.iloc[:, :].values\n",
    "ynp = df_y.iloc[:, :].values\n",
    "\n",
    "print(Xnp[:5])\n",
    "print(ynp[:5])"
   ]
  },
  {
   "cell_type": "code",
   "execution_count": 107,
   "id": "4dd7663d",
   "metadata": {},
   "outputs": [
    {
     "name": "stdout",
     "output_type": "stream",
     "text": [
      "[[0.0625     0.         0.11392405 0.         0.5        0.11654676\n",
      "  0.47826087]\n",
      " [0.0625     0.28571429 0.30942335 0.33333333 0.5        0.25899281\n",
      "  0.44347826]\n",
      " [0.03125    0.         0.05625879 0.         0.5        0.05755396\n",
      "  0.28695652]\n",
      " [0.09375    0.28571429 0.22362869 0.         1.         0.09784173\n",
      "  0.56521739]\n",
      " [0.0625     0.14285714 0.18424754 0.         0.5        0.18848921\n",
      "  0.75652174]]\n",
      "\n",
      "\n",
      "[[0.12046882]\n",
      " [0.38509837]\n",
      " [0.08539138]\n",
      " [0.44035161]\n",
      " [0.3616576 ]]\n"
     ]
    }
   ],
   "source": [
    "#Normalização dos dados\n",
    "from sklearn.preprocessing import normalize, MinMaxScaler\n",
    "\n",
    "#Using MinMaxScaler\n",
    "X_scaler = MinMaxScaler()\n",
    "y_scaler = MinMaxScaler()\n",
    "X_scaled = X_scaler.fit_transform(Xnp)\n",
    "y_scaled = y_scaler.fit_transform(ynp)\n",
    "\n",
    "#Retorna as 5 primriras linhas\n",
    "print(X_scaled[:5]) \n",
    "print(\"\\n\")\n",
    "print(y_scaled[:5])"
   ]
  },
  {
   "cell_type": "code",
   "execution_count": 108,
   "id": "fbfa89cb",
   "metadata": {},
   "outputs": [
    {
     "name": "stdout",
     "output_type": "stream",
     "text": [
      "0.0\n",
      "1.0\n",
      "0.0\n",
      "0.9999999999999999\n"
     ]
    }
   ],
   "source": [
    "#Observando alguns valores limites\n",
    "print(X_scaled[:,1].min())\n",
    "print(X_scaled[:,1].max())\n",
    "print(y_scaled.min())\n",
    "print(y_scaled.max())"
   ]
  },
  {
   "cell_type": "code",
   "execution_count": 109,
   "id": "88523ffd",
   "metadata": {},
   "outputs": [
    {
     "name": "stdout",
     "output_type": "stream",
     "text": [
      "(20755, 7)\n",
      "(20755, 1)\n"
     ]
    }
   ],
   "source": [
    "#Observando os shapes\n",
    "print(X_scaled.shape)\n",
    "print(y_scaled.shape)"
   ]
  },
  {
   "cell_type": "code",
   "execution_count": 110,
   "id": "f2f1f1ea",
   "metadata": {},
   "outputs": [],
   "source": [
    "#Exportando como CSV o databese preprocessado\n",
    "\n",
    "# Previsores\n",
    "#X_export = pd.DataFrame(X_scaled)\n",
    "#X_export.to_csv(\"./tensor_houseprice_preprocessed_input.csv\", index=False)\n",
    "\n",
    "# Classe alvo\n",
    "#y_export = pd.DataFrame(y_scaled)\n",
    "#y_export.to_csv(\"./tensor_houseprice_preprocessed_target.csv\", index=False)\n"
   ]
  },
  {
   "cell_type": "code",
   "execution_count": 111,
   "id": "879cf956",
   "metadata": {},
   "outputs": [],
   "source": [
    "#Divisão de base de treinamento e teste\n",
    "X_treinamento, X_teste, y_treinamento, y_teste = train_test_split(\n",
    "                    X_scaled, y_scaled, \n",
    "                    test_size = 0.25, \n",
    "                    random_state = 0\n",
    "                    )"
   ]
  },
  {
   "cell_type": "code",
   "execution_count": 112,
   "id": "332e6b14",
   "metadata": {},
   "outputs": [
    {
     "name": "stdout",
     "output_type": "stream",
     "text": [
      "[[0.09375    0.28571429 0.41068917 0.33333333 0.5        0.42014388\n",
      "  0.89565217]\n",
      " [0.0625     0.28571429 0.25316456 0.         0.5        0.18992806\n",
      "  0.69565217]]\n"
     ]
    }
   ],
   "source": [
    "#Observando os primeiros valores\n",
    "print(X_treinamento[:2,:])"
   ]
  },
  {
   "cell_type": "code",
   "execution_count": 113,
   "id": "60485380",
   "metadata": {},
   "outputs": [
    {
     "name": "stdout",
     "output_type": "stream",
     "text": [
      "[[0.0625     0.28571429 0.30942335 0.66666667 0.5        0.31654676\n",
      "  0.93043478]\n",
      " [0.09375    0.28571429 0.30520394 0.         0.5        0.31223022\n",
      "  0.73043478]]\n"
     ]
    }
   ],
   "source": [
    "print(X_teste[:2,:])"
   ]
  },
  {
   "cell_type": "code",
   "execution_count": 114,
   "id": "7d8d45b7",
   "metadata": {},
   "outputs": [
    {
     "name": "stdout",
     "output_type": "stream",
     "text": [
      "[[0.54416074]\n",
      " [0.1373378 ]]\n"
     ]
    }
   ],
   "source": [
    "print(y_treinamento[:2,:])"
   ]
  },
  {
   "cell_type": "code",
   "execution_count": 115,
   "id": "6f5eaf65",
   "metadata": {},
   "outputs": [
    {
     "name": "stdout",
     "output_type": "stream",
     "text": [
      "[[0.50397656]\n",
      " [0.58350774]]\n"
     ]
    }
   ],
   "source": [
    "print(y_teste[:2,:])"
   ]
  },
  {
   "cell_type": "markdown",
   "id": "a53b1d86",
   "metadata": {},
   "source": [
    "### Criando o modelo neural"
   ]
  },
  {
   "cell_type": "code",
   "execution_count": 116,
   "id": "4d253f05",
   "metadata": {},
   "outputs": [],
   "source": [
    "# Bibliotecas do Tensorflow\n",
    "import tensorflow as tf\n",
    "from tensorflow import keras\n",
    "from tensorflow.keras.models import Sequential"
   ]
  },
  {
   "cell_type": "code",
   "execution_count": 117,
   "id": "b0550d2a",
   "metadata": {},
   "outputs": [],
   "source": [
    "#Definição do modelo\n",
    "model = Sequential([\n",
    "        keras.layers.Input(shape=X_treinamento.shape[1:]),  #Definição da camada de entrada, nesse caso são 7 atributos\n",
    "        keras.layers.Dense(9, activation='relu'),    #Número de neurônios da primeira camada oculta e função de ativação\n",
    "        keras.layers.Dense(9, activation='relu'),    #Adicionando uma segunda camada oculta\n",
    "        keras.layers.Dropout(0.2),  #O dropout ajuda a previnir overfiting, a taxa varia entre 0 a 1 com valores usuais pequenos\n",
    "        keras.layers.Dense(1, activation='sigmoid')  #Camada de saída de regressão\n",
    "    ])"
   ]
  },
  {
   "cell_type": "code",
   "execution_count": 118,
   "id": "a6d0db12",
   "metadata": {},
   "outputs": [
    {
     "data": {
      "text/plain": [
       "(7,)"
      ]
     },
     "execution_count": 118,
     "metadata": {},
     "output_type": "execute_result"
    }
   ],
   "source": [
    "# Dimensão da camada de entrada, retorna o shape do primeiro registro de variáveis de entrada\n",
    "X_treinamento.shape[1:]"
   ]
  },
  {
   "cell_type": "code",
   "execution_count": 119,
   "id": "fabe7960",
   "metadata": {},
   "outputs": [
    {
     "name": "stdout",
     "output_type": "stream",
     "text": [
      "Model: \"sequential_2\"\n",
      "_________________________________________________________________\n",
      "Layer (type)                 Output Shape              Param #   \n",
      "=================================================================\n",
      "dense_6 (Dense)              (None, 9)                 72        \n",
      "_________________________________________________________________\n",
      "dense_7 (Dense)              (None, 9)                 90        \n",
      "_________________________________________________________________\n",
      "dropout_2 (Dropout)          (None, 9)                 0         \n",
      "_________________________________________________________________\n",
      "dense_8 (Dense)              (None, 1)                 10        \n",
      "=================================================================\n",
      "Total params: 172\n",
      "Trainable params: 172\n",
      "Non-trainable params: 0\n",
      "_________________________________________________________________\n"
     ]
    }
   ],
   "source": [
    "#Resumo do modelo criado\n",
    "model.summary()"
   ]
  },
  {
   "cell_type": "code",
   "execution_count": 120,
   "id": "e1e10536",
   "metadata": {},
   "outputs": [],
   "source": [
    "#Compilando o modelo\n",
    "from tensorflow.keras import optimizers\n",
    "\n",
    "model.compile(\n",
    "#              optimizer='adam',                                 #Adam para o backpropagation\n",
    "#              optimizer=optimizers.RMSprop(learning_rate=0.001), #Otimizador RMSprop com learning rate especificada\n",
    "              optimizer=optimizers.SGD(learning_rate=0.001), #Otimizador RMSprop com learning rate especificada\n",
    "              loss=keras.losses.mse,       #Função de perda\n",
    "#              loss='bce',\n",
    "              metrics=['mae', 'mse']                               #Métrica utilizada\n",
    "             )"
   ]
  },
  {
   "cell_type": "code",
   "execution_count": 121,
   "id": "a2c906b0",
   "metadata": {},
   "outputs": [],
   "source": [
    "#Treinamento do modelo\n",
    "history = model.fit(X_treinamento, y_treinamento, epochs=100, validation_data=(X_teste, y_teste), verbose=0)"
   ]
  },
  {
   "cell_type": "code",
   "execution_count": 122,
   "id": "b772a662",
   "metadata": {},
   "outputs": [
    {
     "name": "stdout",
     "output_type": "stream",
     "text": [
      "163/163 [==============================] - 0s 2ms/step - loss: 0.0321 - mae: 0.1430 - mse: 0.0321\n"
     ]
    },
    {
     "data": {
      "text/plain": [
       "[0.03207800164818764, 0.14302535355091095, 0.03207800164818764]"
      ]
     },
     "execution_count": 122,
     "metadata": {},
     "output_type": "execute_result"
    }
   ],
   "source": [
    "#Checando a acurácia\n",
    "model.evaluate(X_teste, y_teste)"
   ]
  },
  {
   "cell_type": "code",
   "execution_count": 123,
   "id": "a0f5d7d8",
   "metadata": {},
   "outputs": [
    {
     "data": {
      "image/png": "[encoded data removed]",
      "text/plain": [
       "<Figure size 720x432 with 1 Axes>"
      ]
     },
     "metadata": {
      "needs_background": "light"
     },
     "output_type": "display_data"
    }
   ],
   "source": [
    "#Evolução de performance\n",
    "pd.DataFrame(history.history).plot(figsize=(10,6))  #Evolução das métricas\n",
    "plt.grid(True)            #Mostra as linhas de grade\n",
    "plt.gca().set_ylim(0, 1)  #Limites do eixo y\n",
    "plt.show()                #Gera o gráfico"
   ]
  },
  {
   "cell_type": "markdown",
   "id": "bb2e5889",
   "metadata": {},
   "source": [
    "### Realizando uma predição"
   ]
  },
  {
   "cell_type": "code",
   "execution_count": 124,
   "id": "f3ff8248",
   "metadata": {},
   "outputs": [
    {
     "name": "stdout",
     "output_type": "stream",
     "text": [
      "(1, 7)\n",
      "[[0.341767]]\n",
      "[0.19003767]\n"
     ]
    }
   ],
   "source": [
    "#Predição de 1 registro da base de teste\n",
    "X_predict = np.array(X_teste[100])   #Registro selecionado\n",
    "y_correct_predict = y_teste[100]     #Valor correto\n",
    "\n",
    "X_predict_list = list()            #Ajuste de dimensões (transposição)\n",
    "for i in X_predict:\n",
    "    X_predict_list.append([i])\n",
    "X_predict_transpose = np.array(X_predict_list).T\n",
    "print(X_predict_transpose.shape)\n",
    "\n",
    "y_predict = model.predict(X_predict_transpose)   #Predição\n",
    "\n",
    "print(y_predict)\n",
    "print(y_correct_predict)"
   ]
  },
  {
   "cell_type": "code",
   "execution_count": 125,
   "id": "5a92b548",
   "metadata": {},
   "outputs": [
    {
     "name": "stdout",
     "output_type": "stream",
     "text": [
      "(1, 7)\n",
      "[[0.32945454]]\n",
      "[[471533.47]]\n"
     ]
    }
   ],
   "source": [
    "#Predição de um valor inserido pelo usuário\n",
    "X = [[0.15, 0.32, 0.23, 0, 0.60, 0.33, 0.45]]\n",
    "print(np.array(X).shape)\n",
    "y = model.predict(X)   #Predição por entrada direta\n",
    "print(y)\n",
    "y_noscaled = y_scaler.inverse_transform(y)\n",
    "print(y_noscaled)      #Transformando para o valor original da variável\n"
   ]
  },
  {
   "cell_type": "code",
   "execution_count": null,
   "id": "960156de",
   "metadata": {},
   "outputs": [],
   "source": []
  },
  {
   "cell_type": "code",
   "execution_count": null,
   "id": "c9f331c9",
   "metadata": {},
   "outputs": [],
   "source": []
  },
  {
   "cell_type": "code",
   "execution_count": null,
   "id": "be05c428",
   "metadata": {},
   "outputs": [],
   "source": []
  }
 ],
 "metadata": {
  "kernelspec": {
   "display_name": "Python 3",
   "language": "python",
   "name": "python3"
  },
  "language_info": {
   "codemirror_mode": {
    "name": "ipython",
    "version": 3
   },
   "file_extension": ".py",
   "mimetype": "text/x-python",
   "name": "python",
   "nbconvert_exporter": "python",
   "pygments_lexer": "ipython3",
   "version": "3.6.9"
  }
 },
 "nbformat": 4,
 "nbformat_minor": 5
}
